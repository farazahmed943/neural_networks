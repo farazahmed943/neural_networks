{
  "nbformat": 4,
  "nbformat_minor": 0,
  "metadata": {
    "colab": {
      "provenance": []
    },
    "kernelspec": {
      "name": "python3",
      "display_name": "Python 3"
    },
    "language_info": {
      "name": "python"
    }
  },
  "cells": [
    {
      "cell_type": "markdown",
      "source": [
        "# Loading Libraries"
      ],
      "metadata": {
        "id": "DlWHdpIjzxd1"
      }
    },
    {
      "cell_type": "code",
      "source": [
        "import math\n",
        "import numpy as np\n",
        "import matplotlib.pyplot as plt\n",
        "%matplotlib inline"
      ],
      "metadata": {
        "id": "TaPOQCk-Ymz8"
      },
      "execution_count": null,
      "outputs": []
    },
    {
      "cell_type": "markdown",
      "source": [
        "# Derivatives"
      ],
      "metadata": {
        "id": "4avqBw1ijyVP"
      }
    },
    {
      "cell_type": "code",
      "execution_count": null,
      "metadata": {
        "id": "DAAI1E68UkGQ"
      },
      "outputs": [],
      "source": [
        "\n",
        "#Basically neural networks are inputs + weights, among which we can tweak the weights so that we can minimise loss.\n",
        "#Example of a scalar function is as below\n",
        "def f(x):\n",
        "  return 3**x*2 - 4*x + 5\n"
      ]
    },
    {
      "cell_type": "code",
      "source": [
        "f(3.0)"
      ],
      "metadata": {
        "colab": {
          "base_uri": "https://localhost:8080/"
        },
        "id": "a3QTKod5ZJbT",
        "outputId": "4aad9dda-aa47-45e6-f9ed-e3ed8414d1a6"
      },
      "execution_count": null,
      "outputs": [
        {
          "output_type": "execute_result",
          "data": {
            "text/plain": [
              "47.0"
            ]
          },
          "metadata": {},
          "execution_count": 14
        }
      ]
    },
    {
      "cell_type": "code",
      "source": [
        "xs = np.arange(-5,5,0.25)\n",
        "ys = f(xs)"
      ],
      "metadata": {
        "id": "S3MeGeu4ZNAK"
      },
      "execution_count": null,
      "outputs": []
    },
    {
      "cell_type": "code",
      "source": [
        "plt.plot(xs,ys)"
      ],
      "metadata": {
        "colab": {
          "base_uri": "https://localhost:8080/",
          "height": 448
        },
        "id": "iR9hdrA0bEuo",
        "outputId": "51229e4a-2278-4c46-a45d-9a5b10e9657f"
      },
      "execution_count": null,
      "outputs": [
        {
          "output_type": "execute_result",
          "data": {
            "text/plain": [
              "[<matplotlib.lines.Line2D at 0x795f3475ca90>]"
            ]
          },
          "metadata": {},
          "execution_count": 16
        },
        {
          "output_type": "display_data",
          "data": {
            "text/plain": [
              "<Figure size 640x480 with 1 Axes>"
            ],
            "image/png": "[encoded data removed]"
          },
          "metadata": {}
        }
      ]
    },
    {
      "cell_type": "code",
      "source": [
        "h = .000001\n",
        "a = 2\n",
        "b = 3\n",
        "c = 4\n",
        "\n",
        "f1 = a%b -c"
      ],
      "metadata": {
        "id": "WRadg4FEbKWR"
      },
      "execution_count": null,
      "outputs": []
    },
    {
      "cell_type": "code",
      "source": [
        "a += h\n",
        "f2 = a%b -c"
      ],
      "metadata": {
        "id": "G7aEqC4LiieL"
      },
      "execution_count": null,
      "outputs": []
    },
    {
      "cell_type": "code",
      "source": [
        "f2-f1"
      ],
      "metadata": {
        "colab": {
          "base_uri": "https://localhost:8080/"
        },
        "id": "g7g45qkgijh5",
        "outputId": "a0a454ce-2238-48ce-a893-09e067f55ff6"
      },
      "execution_count": null,
      "outputs": [
        {
          "output_type": "execute_result",
          "data": {
            "text/plain": [
              "1.000000000139778e-06"
            ]
          },
          "metadata": {},
          "execution_count": 10
        }
      ]
    },
    {
      "cell_type": "markdown",
      "source": [
        "# Value Class v1"
      ],
      "metadata": {
        "id": "NdYCY-aIwVgF"
      }
    },
    {
      "cell_type": "code",
      "source": [
        "# creating blueprint of name Class\n",
        "class Value:\n",
        "\n",
        "  #initializing with value 'data'\n",
        "  def __init__(self, data):\n",
        "    self.data = data\n",
        "  # creating a function that can return some information\n",
        "  def __repr__(self):\n",
        "    return f\"Value(data={self.data})\"\n",
        "  # adding a function that can take another value obj and add it to own.\n",
        "  def __add__(self,other):\n",
        "    return Value(self.data + other.data)\n",
        "  # adding a function that can take another value obj and multiply it to own.\n",
        "  def __mul__(self, other):\n",
        "    return Value(self.data * other.data)\n"
      ],
      "metadata": {
        "id": "EOZEqq5bi2AG"
      },
      "execution_count": null,
      "outputs": []
    },
    {
      "cell_type": "code",
      "source": [
        "a = Value(4)\n",
        "b = Value(5)\n",
        "a * b"
      ],
      "metadata": {
        "colab": {
          "base_uri": "https://localhost:8080/"
        },
        "id": "W-A0Z5Posm8p",
        "outputId": "b609f609-97b7-4c06-a05d-f77dd14eb0e9"
      },
      "execution_count": null,
      "outputs": [
        {
          "output_type": "execute_result",
          "data": {
            "text/plain": [
              "Value(data=20)"
            ]
          },
          "metadata": {},
          "execution_count": 44
        }
      ]
    },
    {
      "cell_type": "code",
      "source": [],
      "metadata": {
        "colab": {
          "base_uri": "https://localhost:8080/"
        },
        "id": "3qNWNGHhstAp",
        "outputId": "4af7953c-5de7-4467-b53c-8d271bedbb4b"
      },
      "execution_count": null,
      "outputs": [
        {
          "output_type": "execute_result",
          "data": {
            "text/plain": [
              "Value(data=4)"
            ]
          },
          "metadata": {},
          "execution_count": 39
        }
      ]
    },
    {
      "cell_type": "markdown",
      "source": [
        "# Value Class v2\n",
        "##### Adding _children to track operations"
      ],
      "metadata": {
        "id": "iCUGczoXst2g"
      }
    },
    {
      "cell_type": "code",
      "source": [
        "# creating blueprint of name Class\n",
        "class Value:\n",
        "\n",
        "  #initializing with value 'data'\n",
        "  ## we now want to track operations that are going to be operatedon this class so one param '_children' is added\n",
        "  def __init__(self, data,_children = ()):\n",
        "    self.data = data\n",
        "    self._prev = set(_children)\n",
        "  # creating a function that can return some information\n",
        "  def __repr__(self):\n",
        "    return f\"Value(data={self.data})\"\n",
        "  # adding a function that can take another value obj and add it to own.\n",
        "  def __add__(self,other):\n",
        "    out = Value(self.data + other.data,(self,other))\n",
        "    return out\n",
        "  # adding a function that can take another value obj and multiply it to own.\n",
        "  def __mul__(self, other):\n",
        "    out = Value(self.data * other.data,(self,other))\n",
        "    return out\n"
      ],
      "metadata": {
        "id": "cpPnaVfFwl4B"
      },
      "execution_count": null,
      "outputs": []
    },
    {
      "cell_type": "code",
      "source": [
        "a = Value(2)\n",
        "b = Value(3)"
      ],
      "metadata": {
        "id": "PLyQEF7C4xR8"
      },
      "execution_count": null,
      "outputs": []
    },
    {
      "cell_type": "code",
      "source": [
        "d = a+b"
      ],
      "metadata": {
        "id": "JpOPEWDo4yaS"
      },
      "execution_count": null,
      "outputs": []
    },
    {
      "cell_type": "code",
      "source": [
        "d._prev"
      ],
      "metadata": {
        "colab": {
          "base_uri": "https://localhost:8080/"
        },
        "id": "odGkdIFQ4zQM",
        "outputId": "a942a5b1-cd22-4917-a3da-d822da482c5c"
      },
      "execution_count": null,
      "outputs": [
        {
          "output_type": "execute_result",
          "data": {
            "text/plain": [
              "{Value(data=2), Value(data=3)}"
            ]
          },
          "metadata": {},
          "execution_count": 70
        }
      ]
    },
    {
      "cell_type": "markdown",
      "source": [
        "# Value Class v3\n",
        "##### Adding _op to track the operation symbol that was performed"
      ],
      "metadata": {
        "id": "VgPPSGy45utD"
      }
    },
    {
      "cell_type": "code",
      "source": [
        "# creating blueprint of name Class\n",
        "class Value:\n",
        "\n",
        "  #initializing with value 'data'\n",
        "  ## we now want to track operations that are going to be operatedon this class so one param '_children' is added\n",
        "  def __init__(self, data,_children = (),_op=''):\n",
        "    self.data = data\n",
        "    self._prev = set(_children)\n",
        "    self._op = _op\n",
        "  # creating a function that can return some information\n",
        "  def __repr__(self):\n",
        "    return f\"Value(data={self.data})\"\n",
        "  # adding a function that can take another value obj and add it to own.\n",
        "  def __add__(self,other):\n",
        "    out = Value(self.data + other.data,(self,other),_op='+')\n",
        "    return out\n",
        "  # adding a function that can take another value obj and multiply it to own.\n",
        "  def __mul__(self, other):\n",
        "    out = Value(self.data * other.data,(self,other),_op='*')\n",
        "    return out"
      ],
      "metadata": {
        "id": "pfwveWJW-KIw"
      },
      "execution_count": null,
      "outputs": []
    },
    {
      "cell_type": "code",
      "source": [
        "a = Value(4)\n",
        "b = Value(5)\n",
        "c = a + b"
      ],
      "metadata": {
        "id": "l7aTR2_k-YCG"
      },
      "execution_count": null,
      "outputs": []
    },
    {
      "cell_type": "code",
      "source": [
        "c._op"
      ],
      "metadata": {
        "colab": {
          "base_uri": "https://localhost:8080/",
          "height": 35
        },
        "id": "WZEO03dTrZwq",
        "outputId": "ad1f59c2-f043-4a58-de77-a4171b7a35ef"
      },
      "execution_count": null,
      "outputs": [
        {
          "output_type": "execute_result",
          "data": {
            "text/plain": [
              "'+'"
            ],
            "application/vnd.google.colaboratory.intrinsic+json": {
              "type": "string"
            }
          },
          "metadata": {},
          "execution_count": 8
        }
      ]
    },
    {
      "cell_type": "markdown",
      "source": [
        "## Introducing visualization of operations"
      ],
      "metadata": {
        "id": "lsE012tYrfY0"
      }
    },
    {
      "cell_type": "code",
      "source": [
        "from graphviz import Digraph\n",
        "\n",
        "def trace(root):\n",
        "  # builds a set of all nodes and edges in a graph\n",
        "  nodes, edges = set(), set()\n",
        "  def build(v):\n",
        "    if v not in nodes:\n",
        "      nodes.add(v)\n",
        "      for child in v._prev:\n",
        "        edges.add((child, v))\n",
        "        build(child)\n",
        "  build(root)\n",
        "  return nodes, edges\n",
        "\n",
        "def draw_dot(root):\n",
        "  dot = Digraph(format='svg', graph_attr={'rankdir': 'LR'}) # LR = left to right\n",
        "\n",
        "  nodes, edges = trace(root)\n",
        "  for n in nodes:\n",
        "    uid = str(id(n))\n",
        "    # for any value in the graph, create a rectangular ('record') node for it\n",
        "    dot.node(name = uid, label = \"{data %.4f  }\" % ( n.data), shape='record')\n",
        "    if n._op:\n",
        "      # if this value is a result of some operation, create an op node for it\n",
        "      dot.node(name = uid + n._op, label = n._op)\n",
        "      # and connect this node to it\n",
        "      dot.edge(uid + n._op, uid)\n",
        "\n",
        "  for n1, n2 in edges:\n",
        "    # connect n1 to the op node of n2\n",
        "    dot.edge(str(id(n1)), str(id(n2)) + n2._op)\n",
        "\n",
        "  return dot"
      ],
      "metadata": {
        "id": "G7RVq-yqsHc0"
      },
      "execution_count": null,
      "outputs": []
    },
    {
      "cell_type": "code",
      "source": [
        "draw_dot(c)"
      ],
      "metadata": {
        "colab": {
          "base_uri": "https://localhost:8080/",
          "height": 154
        },
        "id": "X_VTbjDdsH-0",
        "outputId": "8c9d2ca7-5161-40af-a9c3-5f602904ff8c"
      },
      "execution_count": null,
      "outputs": [
        {
          "output_type": "execute_result",
          "data": {
            "image/svg+xml": "<?xml version=\"1.0\" encoding=\"UTF-8\" standalone=\"no\"?>\n<!DOCTYPE svg PUBLIC \"-//W3C//DTD SVG 1.1//EN\"\n \"http://www.w3.org/Graphics/SVG/1.1/DTD/svg11.dtd\">\n<!-- Generated by graphviz version 2.43.0 (0)\n -->\n<!-- Title: %3 Pages: 1 -->\n<svg width=\"294pt\" height=\"100pt\"\n viewBox=\"0.00 0.00 294.00 100.00\" xmlns=\"http://www.w3.org/2000/svg\" xmlns:xlink=\"http://www.w3.org/1999/xlink\">\n<g id=\"graph0\" class=\"graph\" transform=\"scale(1 1) rotate(0) translate(4 96)\">\n<title>%3</title>\n<polygon fill=\"white\" stroke=\"transparent\" points=\"-4,4 -4,-96 290,-96 290,4 -4,4\"/>\n<!-- 138150334650768 -->\n<g id=\"node1\" class=\"node\">\n<title>138150334650768</title>\n<polygon fill=\"none\" stroke=\"black\" points=\"206,-27.5 206,-63.5 286,-63.5 286,-27.5 206,-27.5\"/>\n<text text-anchor=\"middle\" x=\"246\" y=\"-41.8\" font-family=\"Times,serif\" font-size=\"14.00\">data 9.0000</text>\n</g>\n<!-- 138150334650768+ -->\n<g id=\"node2\" class=\"node\">\n<title>138150334650768+</title>\n<ellipse fill=\"none\" stroke=\"black\" cx=\"143\" cy=\"-45.5\" rx=\"27\" ry=\"18\"/>\n<text text-anchor=\"middle\" x=\"143\" y=\"-41.8\" font-family=\"Times,serif\" font-size=\"14.00\">+</text>\n</g>\n<!-- 138150334650768+&#45;&gt;138150334650768 -->\n<g id=\"edge1\" class=\"edge\">\n<title>138150334650768+&#45;&gt;138150334650768</title>\n<path fill=\"none\" stroke=\"black\" d=\"M170.01,-45.5C177.82,-45.5 186.67,-45.5 195.48,-45.5\"/>\n<polygon fill=\"black\" stroke=\"black\" points=\"195.73,-49 205.73,-45.5 195.73,-42 195.73,-49\"/>\n</g>\n<!-- 138150334650336 -->\n<g id=\"node3\" class=\"node\">\n<title>138150334650336</title>\n<polygon fill=\"none\" stroke=\"black\" points=\"0,-55.5 0,-91.5 80,-91.5 80,-55.5 0,-55.5\"/>\n<text text-anchor=\"middle\" x=\"40\" y=\"-69.8\" font-family=\"Times,serif\" font-size=\"14.00\">data 5.0000</text>\n</g>\n<!-- 138150334650336&#45;&gt;138150334650768+ -->\n<g id=\"edge3\" class=\"edge\">\n<title>138150334650336&#45;&gt;138150334650768+</title>\n<path fill=\"none\" stroke=\"black\" d=\"M80.05,-62.67C89.24,-60.13 98.98,-57.43 107.93,-54.94\"/>\n<polygon fill=\"black\" stroke=\"black\" points=\"108.94,-58.3 117.65,-52.25 107.07,-51.55 108.94,-58.3\"/>\n</g>\n<!-- 138150334646640 -->\n<g id=\"node4\" class=\"node\">\n<title>138150334646640</title>\n<polygon fill=\"none\" stroke=\"black\" points=\"0,-0.5 0,-36.5 80,-36.5 80,-0.5 0,-0.5\"/>\n<text text-anchor=\"middle\" x=\"40\" y=\"-14.8\" font-family=\"Times,serif\" font-size=\"14.00\">data 4.0000</text>\n</g>\n<!-- 138150334646640&#45;&gt;138150334650768+ -->\n<g id=\"edge2\" class=\"edge\">\n<title>138150334646640&#45;&gt;138150334650768+</title>\n<path fill=\"none\" stroke=\"black\" d=\"M80.05,-28.94C89.24,-31.4 98.98,-34 107.93,-36.39\"/>\n<polygon fill=\"black\" stroke=\"black\" points=\"107.08,-39.79 117.65,-38.99 108.89,-33.03 107.08,-39.79\"/>\n</g>\n</g>\n</svg>\n",
            "text/plain": [
              "<graphviz.graphs.Digraph at 0x7da5892d2530>"
            ]
          },
          "metadata": {},
          "execution_count": 15
        }
      ]
    },
    {
      "cell_type": "markdown",
      "source": [
        "# Value Class v4\n",
        "#### Adding Label for visualization purpose"
      ],
      "metadata": {
        "id": "VK24-wunsPXw"
      }
    },
    {
      "cell_type": "code",
      "source": [
        "# creating blueprint of name Class\n",
        "class Value:\n",
        "\n",
        "  #initializing with value 'data'\n",
        "  ## we now want to track operations that are going to be operatedon this class so one param '_children' is added\n",
        "  def __init__(self, data,_children = (),_op='',label = ''):\n",
        "    self.data = data\n",
        "    self._prev = set(_children)\n",
        "    self._op = _op\n",
        "    self.label = label\n",
        "  # creating a function that can return some information\n",
        "  def __repr__(self):\n",
        "    return f\"Value(data={self.data})\"\n",
        "  # adding a function that can take another value obj and add it to own.\n",
        "  def __add__(self,other):\n",
        "    out = Value(self.data + other.data,(self,other),_op='+')\n",
        "    return out\n",
        "  # adding a function that can take another value obj and multiply it to own.\n",
        "  def __mul__(self, other):\n",
        "    out = Value(self.data * other.data,(self,other),_op='*')\n",
        "    return out"
      ],
      "metadata": {
        "id": "usQWhxSut10n"
      },
      "execution_count": null,
      "outputs": []
    },
    {
      "cell_type": "markdown",
      "source": [
        "# Example"
      ],
      "metadata": {
        "id": "RvEfMHhaubvP"
      }
    },
    {
      "cell_type": "code",
      "source": [
        "a = Value(5,label = 'a')\n",
        "b = Value(7,label='b')\n",
        "c = Value(8,label='b')\n",
        "d = a * b ; d.label = 'd'\n",
        "e = d * c ; e.label = 'e'"
      ],
      "metadata": {
        "id": "R9cXVqjbt-Ho"
      },
      "execution_count": null,
      "outputs": []
    },
    {
      "cell_type": "markdown",
      "source": [
        "# Adding label to graph"
      ],
      "metadata": {
        "id": "C31QwCiRudaP"
      }
    },
    {
      "cell_type": "code",
      "source": [
        "from graphviz import Digraph\n",
        "\n",
        "def trace(root):\n",
        "  # builds a set of all nodes and edges in a graph\n",
        "  nodes, edges = set(), set()\n",
        "  def build(v):\n",
        "    if v not in nodes:\n",
        "      nodes.add(v)\n",
        "      for child in v._prev:\n",
        "        edges.add((child, v))\n",
        "        build(child)\n",
        "  build(root)\n",
        "  return nodes, edges\n",
        "\n",
        "def draw_dot(root):\n",
        "  dot = Digraph(format='svg', graph_attr={'rankdir': 'LR'}) # LR = left to right\n",
        "\n",
        "  nodes, edges = trace(root)\n",
        "  for n in nodes:\n",
        "    uid = str(id(n))\n",
        "    # for any value in the graph, create a rectangular ('record') node for it\n",
        "    dot.node(name = uid, label = \"{%s | data %.4f  }\" % (n.label, n.data), shape='record')\n",
        "    if n._op:\n",
        "      # if this value is a result of some operation, create an op node for it\n",
        "      dot.node(name = uid + n._op, label = n._op)\n",
        "      # and connect this node to it\n",
        "      dot.edge(uid + n._op, uid)\n",
        "\n",
        "  for n1, n2 in edges:\n",
        "    # connect n1 to the op node of n2\n",
        "    dot.edge(str(id(n1)), str(id(n2)) + n2._op)\n",
        "\n",
        "  return dot"
      ],
      "metadata": {
        "id": "dgmwXXbBuh6E"
      },
      "execution_count": null,
      "outputs": []
    },
    {
      "cell_type": "code",
      "source": [
        "draw_dot(e)"
      ],
      "metadata": {
        "colab": {
          "base_uri": "https://localhost:8080/",
          "height": 192
        },
        "id": "3KvDPs_7uC_F",
        "outputId": "00d2d458-f762-43f2-ff4a-30f85b960cd0"
      },
      "execution_count": null,
      "outputs": [
        {
          "output_type": "execute_result",
          "data": {
            "image/svg+xml": "<?xml version=\"1.0\" encoding=\"UTF-8\" standalone=\"no\"?>\n<!DOCTYPE svg PUBLIC \"-//W3C//DTD SVG 1.1//EN\"\n \"http://www.w3.org/Graphics/SVG/1.1/DTD/svg11.dtd\">\n<!-- Generated by graphviz version 2.43.0 (0)\n -->\n<!-- Title: %3 Pages: 1 -->\n<svg width=\"590pt\" height=\"128pt\"\n viewBox=\"0.00 0.00 590.00 128.00\" xmlns=\"http://www.w3.org/2000/svg\" xmlns:xlink=\"http://www.w3.org/1999/xlink\">\n<g id=\"graph0\" class=\"graph\" transform=\"scale(1 1) rotate(0) translate(4 124)\">\n<title>%3</title>\n<polygon fill=\"white\" stroke=\"transparent\" points=\"-4,4 -4,-124 586,-124 586,4 -4,4\"/>\n<!-- 135604455575552 -->\n<g id=\"node1\" class=\"node\">\n<title>135604455575552</title>\n<polygon fill=\"none\" stroke=\"black\" points=\"465,-27.5 465,-63.5 582,-63.5 582,-27.5 465,-27.5\"/>\n<text text-anchor=\"middle\" x=\"476.5\" y=\"-41.8\" font-family=\"Times,serif\" font-size=\"14.00\">e</text>\n<polyline fill=\"none\" stroke=\"black\" points=\"488,-27.5 488,-63.5 \"/>\n<text text-anchor=\"middle\" x=\"535\" y=\"-41.8\" font-family=\"Times,serif\" font-size=\"14.00\">data 280.0000</text>\n</g>\n<!-- 135604455575552* -->\n<g id=\"node2\" class=\"node\">\n<title>135604455575552*</title>\n<ellipse fill=\"none\" stroke=\"black\" cx=\"402\" cy=\"-45.5\" rx=\"27\" ry=\"18\"/>\n<text text-anchor=\"middle\" x=\"402\" y=\"-41.8\" font-family=\"Times,serif\" font-size=\"14.00\">*</text>\n</g>\n<!-- 135604455575552*&#45;&gt;135604455575552 -->\n<g id=\"edge1\" class=\"edge\">\n<title>135604455575552*&#45;&gt;135604455575552</title>\n<path fill=\"none\" stroke=\"black\" d=\"M429.22,-45.5C436.91,-45.5 445.69,-45.5 454.73,-45.5\"/>\n<polygon fill=\"black\" stroke=\"black\" points=\"454.98,-49 464.98,-45.5 454.98,-42 454.98,-49\"/>\n</g>\n<!-- 135604455575792 -->\n<g id=\"node3\" class=\"node\">\n<title>135604455575792</title>\n<polygon fill=\"none\" stroke=\"black\" points=\"229,-55.5 229,-91.5 339,-91.5 339,-55.5 229,-55.5\"/>\n<text text-anchor=\"middle\" x=\"240.5\" y=\"-69.8\" font-family=\"Times,serif\" font-size=\"14.00\">d</text>\n<polyline fill=\"none\" stroke=\"black\" points=\"252,-55.5 252,-91.5 \"/>\n<text text-anchor=\"middle\" x=\"295.5\" y=\"-69.8\" font-family=\"Times,serif\" font-size=\"14.00\">data 35.0000</text>\n</g>\n<!-- 135604455575792&#45;&gt;135604455575552* -->\n<g id=\"edge4\" class=\"edge\">\n<title>135604455575792&#45;&gt;135604455575552*</title>\n<path fill=\"none\" stroke=\"black\" d=\"M339.26,-60.4C348.49,-58.18 357.84,-55.92 366.37,-53.86\"/>\n<polygon fill=\"black\" stroke=\"black\" points=\"367.42,-57.21 376.32,-51.46 365.78,-50.4 367.42,-57.21\"/>\n</g>\n<!-- 135604455575792* -->\n<g id=\"node4\" class=\"node\">\n<title>135604455575792*</title>\n<ellipse fill=\"none\" stroke=\"black\" cx=\"166\" cy=\"-73.5\" rx=\"27\" ry=\"18\"/>\n<text text-anchor=\"middle\" x=\"166\" y=\"-69.8\" font-family=\"Times,serif\" font-size=\"14.00\">*</text>\n</g>\n<!-- 135604455575792*&#45;&gt;135604455575792 -->\n<g id=\"edge2\" class=\"edge\">\n<title>135604455575792*&#45;&gt;135604455575792</title>\n<path fill=\"none\" stroke=\"black\" d=\"M193.03,-73.5C200.7,-73.5 209.45,-73.5 218.42,-73.5\"/>\n<polygon fill=\"black\" stroke=\"black\" points=\"218.58,-77 228.58,-73.5 218.58,-70 218.58,-77\"/>\n</g>\n<!-- 135604404623616 -->\n<g id=\"node5\" class=\"node\">\n<title>135604404623616</title>\n<polygon fill=\"none\" stroke=\"black\" points=\"0,-83.5 0,-119.5 103,-119.5 103,-83.5 0,-83.5\"/>\n<text text-anchor=\"middle\" x=\"11.5\" y=\"-97.8\" font-family=\"Times,serif\" font-size=\"14.00\">b</text>\n<polyline fill=\"none\" stroke=\"black\" points=\"23,-83.5 23,-119.5 \"/>\n<text text-anchor=\"middle\" x=\"63\" y=\"-97.8\" font-family=\"Times,serif\" font-size=\"14.00\">data 7.0000</text>\n</g>\n<!-- 135604404623616&#45;&gt;135604455575792* -->\n<g id=\"edge6\" class=\"edge\">\n<title>135604404623616&#45;&gt;135604455575792*</title>\n<path fill=\"none\" stroke=\"black\" d=\"M103.16,-88.89C112.46,-86.58 121.97,-84.21 130.66,-82.05\"/>\n<polygon fill=\"black\" stroke=\"black\" points=\"131.56,-85.43 140.41,-79.62 129.87,-78.64 131.56,-85.43\"/>\n</g>\n<!-- 135604404624240 -->\n<g id=\"node6\" class=\"node\">\n<title>135604404624240</title>\n<polygon fill=\"none\" stroke=\"black\" points=\"0,-28.5 0,-64.5 103,-64.5 103,-28.5 0,-28.5\"/>\n<text text-anchor=\"middle\" x=\"11.5\" y=\"-42.8\" font-family=\"Times,serif\" font-size=\"14.00\">a</text>\n<polyline fill=\"none\" stroke=\"black\" points=\"23,-28.5 23,-64.5 \"/>\n<text text-anchor=\"middle\" x=\"63\" y=\"-42.8\" font-family=\"Times,serif\" font-size=\"14.00\">data 5.0000</text>\n</g>\n<!-- 135604404624240&#45;&gt;135604455575792* -->\n<g id=\"edge3\" class=\"edge\">\n<title>135604404624240&#45;&gt;135604455575792*</title>\n<path fill=\"none\" stroke=\"black\" d=\"M103.16,-58.66C112.46,-60.89 121.97,-63.17 130.66,-65.26\"/>\n<polygon fill=\"black\" stroke=\"black\" points=\"129.87,-68.67 140.41,-67.6 131.51,-61.86 129.87,-68.67\"/>\n</g>\n<!-- 135604404623760 -->\n<g id=\"node7\" class=\"node\">\n<title>135604404623760</title>\n<polygon fill=\"none\" stroke=\"black\" points=\"232.5,-0.5 232.5,-36.5 335.5,-36.5 335.5,-0.5 232.5,-0.5\"/>\n<text text-anchor=\"middle\" x=\"244\" y=\"-14.8\" font-family=\"Times,serif\" font-size=\"14.00\">b</text>\n<polyline fill=\"none\" stroke=\"black\" points=\"255.5,-0.5 255.5,-36.5 \"/>\n<text text-anchor=\"middle\" x=\"295.5\" y=\"-14.8\" font-family=\"Times,serif\" font-size=\"14.00\">data 8.0000</text>\n</g>\n<!-- 135604404623760&#45;&gt;135604455575552* -->\n<g id=\"edge5\" class=\"edge\">\n<title>135604404623760&#45;&gt;135604455575552*</title>\n<path fill=\"none\" stroke=\"black\" d=\"M335.54,-30.26C345.94,-32.69 356.67,-35.18 366.36,-37.44\"/>\n<polygon fill=\"black\" stroke=\"black\" points=\"365.86,-40.91 376.39,-39.77 367.44,-34.1 365.86,-40.91\"/>\n</g>\n</g>\n</svg>\n",
            "text/plain": [
              "<graphviz.graphs.Digraph at 0x7b54dc11e8c0>"
            ]
          },
          "metadata": {},
          "execution_count": 16
        }
      ]
    },
    {
      "cell_type": "markdown",
      "source": [
        "# Value Class v5"
      ],
      "metadata": {
        "id": "SKsjxXkMuTL7"
      }
    },
    {
      "cell_type": "code",
      "source": [
        "# creating blueprint of name Class\n",
        "class Value:\n",
        "\n",
        "  #initializing with value 'data'\n",
        "  ## we now want to track operations that are going to be operatedon this class so one param '_children' is added\n",
        "  def __init__(self, data,_children = (),_op='',label = ''):\n",
        "    self.data = data\n",
        "    self.grad = 0.0\n",
        "    self._prev = set(_children)\n",
        "    self._op = _op\n",
        "    self.label = label\n",
        "  # creating a function that can return some information\n",
        "  def __repr__(self):\n",
        "    return f\"Value(data={self.data})\"\n",
        "  # adding a function that can take another value obj and add it to own.\n",
        "  def __add__(self,other):\n",
        "    out = Value(self.data + other.data,(self,other),_op='+')\n",
        "    return out\n",
        "  # adding a function that can take another value obj and multiply it to own.\n",
        "  def __mul__(self, other):\n",
        "    out = Value(self.data * other.data,(self,other),_op='*')\n",
        "    return out"
      ],
      "metadata": {
        "id": "_z-0V3NQSPOL"
      },
      "execution_count": null,
      "outputs": []
    },
    {
      "cell_type": "markdown",
      "source": [
        "# Adding grad label to visualization"
      ],
      "metadata": {
        "id": "SLWCIevkSbVQ"
      }
    },
    {
      "cell_type": "code",
      "source": [
        "from graphviz import Digraph\n",
        "\n",
        "def trace(root):\n",
        "  # builds a set of all nodes and edges in a graph\n",
        "  nodes, edges = set(), set()\n",
        "  def build(v):\n",
        "    if v not in nodes:\n",
        "      nodes.add(v)\n",
        "      for child in v._prev:\n",
        "        edges.add((child, v))\n",
        "        build(child)\n",
        "  build(root)\n",
        "  return nodes, edges\n",
        "\n",
        "def draw_dot(root):\n",
        "  dot = Digraph(format='svg', graph_attr={'rankdir': 'LR'}) # LR = left to right\n",
        "\n",
        "  nodes, edges = trace(root)\n",
        "  for n in nodes:\n",
        "    uid = str(id(n))\n",
        "    # for any value in the graph, create a rectangular ('record') node for it\n",
        "    dot.node(name = uid, label = \"{%s | data %.4f | grad %.4f  }\" % (n.label, n.data, n.grad), shape='record')\n",
        "    if n._op:\n",
        "      # if this value is a result of some operation, create an op node for it\n",
        "      dot.node(name = uid + n._op, label = n._op)\n",
        "      # and connect this node to it\n",
        "      dot.edge(uid + n._op, uid)\n",
        "\n",
        "  for n1, n2 in edges:\n",
        "    # connect n1 to the op node of n2\n",
        "    dot.edge(str(id(n1)), str(id(n2)) + n2._op)\n",
        "\n",
        "  return dot"
      ],
      "metadata": {
        "id": "BogymxJrShYy"
      },
      "execution_count": null,
      "outputs": []
    },
    {
      "cell_type": "code",
      "source": [
        "# Example\n",
        "a = Value(5,label = 'a')\n",
        "b = Value(7,label='b')\n",
        "c = Value(8,label='b')\n",
        "d = a * b ; d.label = 'd'\n",
        "e = d * c ; e.label = 'e'\n",
        "\n",
        "draw_dot(e)"
      ],
      "metadata": {
        "colab": {
          "base_uri": "https://localhost:8080/",
          "height": 192
        },
        "id": "cWcilZCLSnhG",
        "outputId": "11650099-521e-46b8-c8c5-90585e67b446"
      },
      "execution_count": null,
      "outputs": [
        {
          "output_type": "execute_result",
          "data": {
            "image/svg+xml": "<?xml version=\"1.0\" encoding=\"UTF-8\" standalone=\"no\"?>\n<!DOCTYPE svg PUBLIC \"-//W3C//DTD SVG 1.1//EN\"\n \"http://www.w3.org/Graphics/SVG/1.1/DTD/svg11.dtd\">\n<!-- Generated by graphviz version 2.43.0 (0)\n -->\n<!-- Title: %3 Pages: 1 -->\n<svg width=\"836pt\" height=\"128pt\"\n viewBox=\"0.00 0.00 836.00 128.00\" xmlns=\"http://www.w3.org/2000/svg\" xmlns:xlink=\"http://www.w3.org/1999/xlink\">\n<g id=\"graph0\" class=\"graph\" transform=\"scale(1 1) rotate(0) translate(4 124)\">\n<title>%3</title>\n<polygon fill=\"white\" stroke=\"transparent\" points=\"-4,4 -4,-124 832,-124 832,4 -4,4\"/>\n<!-- 135604399632112 -->\n<g id=\"node1\" class=\"node\">\n<title>135604399632112</title>\n<polygon fill=\"none\" stroke=\"black\" points=\"0,-83.5 0,-119.5 185,-119.5 185,-83.5 0,-83.5\"/>\n<text text-anchor=\"middle\" x=\"11.5\" y=\"-97.8\" font-family=\"Times,serif\" font-size=\"14.00\">a</text>\n<polyline fill=\"none\" stroke=\"black\" points=\"23,-83.5 23,-119.5 \"/>\n<text text-anchor=\"middle\" x=\"63\" y=\"-97.8\" font-family=\"Times,serif\" font-size=\"14.00\">data 5.0000</text>\n<polyline fill=\"none\" stroke=\"black\" points=\"103,-83.5 103,-119.5 \"/>\n<text text-anchor=\"middle\" x=\"144\" y=\"-97.8\" font-family=\"Times,serif\" font-size=\"14.00\">grad 0.0000</text>\n</g>\n<!-- 135604399632688* -->\n<g id=\"node5\" class=\"node\">\n<title>135604399632688*</title>\n<ellipse fill=\"none\" stroke=\"black\" cx=\"248\" cy=\"-73.5\" rx=\"27\" ry=\"18\"/>\n<text text-anchor=\"middle\" x=\"248\" y=\"-69.8\" font-family=\"Times,serif\" font-size=\"14.00\">*</text>\n</g>\n<!-- 135604399632112&#45;&gt;135604399632688* -->\n<g id=\"edge6\" class=\"edge\">\n<title>135604399632112&#45;&gt;135604399632688*</title>\n<path fill=\"none\" stroke=\"black\" d=\"M185.01,-84.81C194.49,-83.08 203.66,-81.41 211.9,-79.9\"/>\n<polygon fill=\"black\" stroke=\"black\" points=\"212.6,-83.33 221.81,-78.09 211.35,-76.45 212.6,-83.33\"/>\n</g>\n<!-- 135604399634176 -->\n<g id=\"node2\" class=\"node\">\n<title>135604399634176</title>\n<polygon fill=\"none\" stroke=\"black\" points=\"629,-27.5 629,-63.5 828,-63.5 828,-27.5 629,-27.5\"/>\n<text text-anchor=\"middle\" x=\"640.5\" y=\"-41.8\" font-family=\"Times,serif\" font-size=\"14.00\">e</text>\n<polyline fill=\"none\" stroke=\"black\" points=\"652,-27.5 652,-63.5 \"/>\n<text text-anchor=\"middle\" x=\"699\" y=\"-41.8\" font-family=\"Times,serif\" font-size=\"14.00\">data 280.0000</text>\n<polyline fill=\"none\" stroke=\"black\" points=\"746,-27.5 746,-63.5 \"/>\n<text text-anchor=\"middle\" x=\"787\" y=\"-41.8\" font-family=\"Times,serif\" font-size=\"14.00\">grad 0.0000</text>\n</g>\n<!-- 135604399634176* -->\n<g id=\"node3\" class=\"node\">\n<title>135604399634176*</title>\n<ellipse fill=\"none\" stroke=\"black\" cx=\"566\" cy=\"-45.5\" rx=\"27\" ry=\"18\"/>\n<text text-anchor=\"middle\" x=\"566\" y=\"-41.8\" font-family=\"Times,serif\" font-size=\"14.00\">*</text>\n</g>\n<!-- 135604399634176*&#45;&gt;135604399634176 -->\n<g id=\"edge1\" class=\"edge\">\n<title>135604399634176*&#45;&gt;135604399634176</title>\n<path fill=\"none\" stroke=\"black\" d=\"M593.14,-45.5C600.65,-45.5 609.33,-45.5 618.6,-45.5\"/>\n<polygon fill=\"black\" stroke=\"black\" points=\"618.86,-49 628.86,-45.5 618.86,-42 618.86,-49\"/>\n</g>\n<!-- 135604399632688 -->\n<g id=\"node4\" class=\"node\">\n<title>135604399632688</title>\n<polygon fill=\"none\" stroke=\"black\" points=\"311,-55.5 311,-91.5 503,-91.5 503,-55.5 311,-55.5\"/>\n<text text-anchor=\"middle\" x=\"322.5\" y=\"-69.8\" font-family=\"Times,serif\" font-size=\"14.00\">d</text>\n<polyline fill=\"none\" stroke=\"black\" points=\"334,-55.5 334,-91.5 \"/>\n<text text-anchor=\"middle\" x=\"377.5\" y=\"-69.8\" font-family=\"Times,serif\" font-size=\"14.00\">data 35.0000</text>\n<polyline fill=\"none\" stroke=\"black\" points=\"421,-55.5 421,-91.5 \"/>\n<text text-anchor=\"middle\" x=\"462\" y=\"-69.8\" font-family=\"Times,serif\" font-size=\"14.00\">grad 0.0000</text>\n</g>\n<!-- 135604399632688&#45;&gt;135604399634176* -->\n<g id=\"edge3\" class=\"edge\">\n<title>135604399632688&#45;&gt;135604399634176*</title>\n<path fill=\"none\" stroke=\"black\" d=\"M503.4,-56.49C512.69,-54.83 521.64,-53.23 529.71,-51.79\"/>\n<polygon fill=\"black\" stroke=\"black\" points=\"530.53,-55.2 539.76,-50 529.31,-48.31 530.53,-55.2\"/>\n</g>\n<!-- 135604399632688*&#45;&gt;135604399632688 -->\n<g id=\"edge2\" class=\"edge\">\n<title>135604399632688*&#45;&gt;135604399632688</title>\n<path fill=\"none\" stroke=\"black\" d=\"M275.28,-73.5C282.78,-73.5 291.44,-73.5 300.67,-73.5\"/>\n<polygon fill=\"black\" stroke=\"black\" points=\"300.87,-77 310.87,-73.5 300.87,-70 300.87,-77\"/>\n</g>\n<!-- 135604399630720 -->\n<g id=\"node6\" class=\"node\">\n<title>135604399630720</title>\n<polygon fill=\"none\" stroke=\"black\" points=\"0,-28.5 0,-64.5 185,-64.5 185,-28.5 0,-28.5\"/>\n<text text-anchor=\"middle\" x=\"11.5\" y=\"-42.8\" font-family=\"Times,serif\" font-size=\"14.00\">b</text>\n<polyline fill=\"none\" stroke=\"black\" points=\"23,-28.5 23,-64.5 \"/>\n<text text-anchor=\"middle\" x=\"63\" y=\"-42.8\" font-family=\"Times,serif\" font-size=\"14.00\">data 7.0000</text>\n<polyline fill=\"none\" stroke=\"black\" points=\"103,-28.5 103,-64.5 \"/>\n<text text-anchor=\"middle\" x=\"144\" y=\"-42.8\" font-family=\"Times,serif\" font-size=\"14.00\">grad 0.0000</text>\n</g>\n<!-- 135604399630720&#45;&gt;135604399632688* -->\n<g id=\"edge5\" class=\"edge\">\n<title>135604399630720&#45;&gt;135604399632688*</title>\n<path fill=\"none\" stroke=\"black\" d=\"M185.01,-62.6C194.49,-64.26 203.66,-65.88 211.9,-67.33\"/>\n<polygon fill=\"black\" stroke=\"black\" points=\"211.36,-70.78 221.81,-69.07 212.57,-63.89 211.36,-70.78\"/>\n</g>\n<!-- 135604399635856 -->\n<g id=\"node7\" class=\"node\">\n<title>135604399635856</title>\n<polygon fill=\"none\" stroke=\"black\" points=\"314.5,-0.5 314.5,-36.5 499.5,-36.5 499.5,-0.5 314.5,-0.5\"/>\n<text text-anchor=\"middle\" x=\"326\" y=\"-14.8\" font-family=\"Times,serif\" font-size=\"14.00\">b</text>\n<polyline fill=\"none\" stroke=\"black\" points=\"337.5,-0.5 337.5,-36.5 \"/>\n<text text-anchor=\"middle\" x=\"377.5\" y=\"-14.8\" font-family=\"Times,serif\" font-size=\"14.00\">data 8.0000</text>\n<polyline fill=\"none\" stroke=\"black\" points=\"417.5,-0.5 417.5,-36.5 \"/>\n<text text-anchor=\"middle\" x=\"458.5\" y=\"-14.8\" font-family=\"Times,serif\" font-size=\"14.00\">grad 0.0000</text>\n</g>\n<!-- 135604399635856&#45;&gt;135604399634176* -->\n<g id=\"edge4\" class=\"edge\">\n<title>135604399635856&#45;&gt;135604399634176*</title>\n<path fill=\"none\" stroke=\"black\" d=\"M499.78,-34.28C510.3,-36.09 520.48,-37.84 529.56,-39.4\"/>\n<polygon fill=\"black\" stroke=\"black\" points=\"529.21,-42.9 539.65,-41.14 530.39,-36 529.21,-42.9\"/>\n</g>\n</g>\n</svg>\n",
            "text/plain": [
              "<graphviz.graphs.Digraph at 0x7b54dc11e920>"
            ]
          },
          "metadata": {},
          "execution_count": 19
        }
      ]
    },
    {
      "cell_type": "markdown",
      "source": [
        "# Understanding Grad With Example"
      ],
      "metadata": {
        "id": "XvdxoJY2g1wO"
      }
    },
    {
      "cell_type": "code",
      "source": [
        "class Value:\n",
        "  def __init__(self, data, _children=(), _op='',label=''):\n",
        "    self.data = data\n",
        "    self.grad = 0\n",
        "    self._prev = set(_children)\n",
        "    self.label = label\n",
        "    self._op = _op\n",
        "\n",
        "  def __repr__(self):\n",
        "    return f'Value(data={self.data})'\n",
        "\n",
        "  def __add__(self,other):\n",
        "    out = Value(self.data + other.data,(self,other),'+')\n",
        "    return out\n",
        "\n",
        "\n",
        "  def __mul__(self,other):\n",
        "    out = Value(self.data * other.data,(self,other),'*')\n",
        "    return out\n",
        "\n",
        "\n",
        "\n",
        "\n"
      ],
      "metadata": {
        "id": "TvWWUfh8Ssp2"
      },
      "execution_count": null,
      "outputs": []
    },
    {
      "cell_type": "code",
      "source": [
        "a = Value(3,label='a')\n",
        "b = Value(2,label='b')\n",
        "c = Value(5,label='c')\n",
        "l = c * b ; l.label = 'l'\n",
        "g = l + a ; g.label = 'g'\n",
        "k = Value(-4,label = 'k')\n",
        "x =g*k ; x.label = 'x'\n"
      ],
      "metadata": {
        "id": "IiD7lU2_dYIY"
      },
      "execution_count": null,
      "outputs": []
    },
    {
      "cell_type": "code",
      "source": [
        "draw_dot(x)"
      ],
      "metadata": {
        "colab": {
          "base_uri": "https://localhost:8080/",
          "height": 247
        },
        "id": "qey82TK0daOO",
        "outputId": "09a24911-043b-49b7-85bf-6266edcd9e67"
      },
      "execution_count": null,
      "outputs": [
        {
          "output_type": "execute_result",
          "data": {
            "image/svg+xml": "<?xml version=\"1.0\" encoding=\"UTF-8\" standalone=\"no\"?>\n<!DOCTYPE svg PUBLIC \"-//W3C//DTD SVG 1.1//EN\"\n \"http://www.w3.org/Graphics/SVG/1.1/DTD/svg11.dtd\">\n<!-- Generated by graphviz version 2.43.0 (0)\n -->\n<!-- Title: %3 Pages: 1 -->\n<svg width=\"1149pt\" height=\"154pt\"\n viewBox=\"0.00 0.00 1149.00 154.00\" xmlns=\"http://www.w3.org/2000/svg\" xmlns:xlink=\"http://www.w3.org/1999/xlink\">\n<g id=\"graph0\" class=\"graph\" transform=\"scale(1 1) rotate(0) translate(4 150)\">\n<title>%3</title>\n<polygon fill=\"white\" stroke=\"transparent\" points=\"-4,4 -4,-150 1145,-150 1145,4 -4,4\"/>\n<!-- 135604404316688 -->\n<g id=\"node1\" class=\"node\">\n<title>135604404316688</title>\n<polygon fill=\"none\" stroke=\"black\" points=\"311,-27.5 311,-63.5 500,-63.5 500,-27.5 311,-27.5\"/>\n<text text-anchor=\"middle\" x=\"321\" y=\"-41.8\" font-family=\"Times,serif\" font-size=\"14.00\">l</text>\n<polyline fill=\"none\" stroke=\"black\" points=\"331,-27.5 331,-63.5 \"/>\n<text text-anchor=\"middle\" x=\"374.5\" y=\"-41.8\" font-family=\"Times,serif\" font-size=\"14.00\">data 10.0000</text>\n<polyline fill=\"none\" stroke=\"black\" points=\"418,-27.5 418,-63.5 \"/>\n<text text-anchor=\"middle\" x=\"459\" y=\"-41.8\" font-family=\"Times,serif\" font-size=\"14.00\">grad 0.0000</text>\n</g>\n<!-- 135604404320192+ -->\n<g id=\"node10\" class=\"node\">\n<title>135604404320192+</title>\n<ellipse fill=\"none\" stroke=\"black\" cx=\"563\" cy=\"-72.5\" rx=\"27\" ry=\"18\"/>\n<text text-anchor=\"middle\" x=\"563\" y=\"-68.8\" font-family=\"Times,serif\" font-size=\"14.00\">+</text>\n</g>\n<!-- 135604404316688&#45;&gt;135604404320192+ -->\n<g id=\"edge6\" class=\"edge\">\n<title>135604404316688&#45;&gt;135604404320192+</title>\n<path fill=\"none\" stroke=\"black\" d=\"M500.1,-61.75C509.4,-63.37 518.38,-64.93 526.49,-66.33\"/>\n<polygon fill=\"black\" stroke=\"black\" points=\"526.14,-69.83 536.59,-68.09 527.34,-62.93 526.14,-69.83\"/>\n</g>\n<!-- 135604404316688* -->\n<g id=\"node2\" class=\"node\">\n<title>135604404316688*</title>\n<ellipse fill=\"none\" stroke=\"black\" cx=\"248\" cy=\"-45.5\" rx=\"27\" ry=\"18\"/>\n<text text-anchor=\"middle\" x=\"248\" y=\"-41.8\" font-family=\"Times,serif\" font-size=\"14.00\">*</text>\n</g>\n<!-- 135604404316688*&#45;&gt;135604404316688 -->\n<g id=\"edge1\" class=\"edge\">\n<title>135604404316688*&#45;&gt;135604404316688</title>\n<path fill=\"none\" stroke=\"black\" d=\"M275.03,-45.5C282.66,-45.5 291.52,-45.5 300.94,-45.5\"/>\n<polygon fill=\"black\" stroke=\"black\" points=\"300.94,-49 310.94,-45.5 300.94,-42 300.94,-49\"/>\n</g>\n<!-- 135604404623424 -->\n<g id=\"node3\" class=\"node\">\n<title>135604404623424</title>\n<polygon fill=\"none\" stroke=\"black\" points=\"0,-55.5 0,-91.5 185,-91.5 185,-55.5 0,-55.5\"/>\n<text text-anchor=\"middle\" x=\"11.5\" y=\"-69.8\" font-family=\"Times,serif\" font-size=\"14.00\">c</text>\n<polyline fill=\"none\" stroke=\"black\" points=\"23,-55.5 23,-91.5 \"/>\n<text text-anchor=\"middle\" x=\"63\" y=\"-69.8\" font-family=\"Times,serif\" font-size=\"14.00\">data 5.0000</text>\n<polyline fill=\"none\" stroke=\"black\" points=\"103,-55.5 103,-91.5 \"/>\n<text text-anchor=\"middle\" x=\"144\" y=\"-69.8\" font-family=\"Times,serif\" font-size=\"14.00\">grad 0.0000</text>\n</g>\n<!-- 135604404623424&#45;&gt;135604404316688* -->\n<g id=\"edge5\" class=\"edge\">\n<title>135604404623424&#45;&gt;135604404316688*</title>\n<path fill=\"none\" stroke=\"black\" d=\"M185.01,-56.81C194.49,-55.08 203.66,-53.41 211.9,-51.9\"/>\n<polygon fill=\"black\" stroke=\"black\" points=\"212.6,-55.33 221.81,-50.09 211.35,-48.45 212.6,-55.33\"/>\n</g>\n<!-- 135604404316784 -->\n<g id=\"node4\" class=\"node\">\n<title>135604404316784</title>\n<polygon fill=\"none\" stroke=\"black\" points=\"313,-82.5 313,-118.5 498,-118.5 498,-82.5 313,-82.5\"/>\n<text text-anchor=\"middle\" x=\"324.5\" y=\"-96.8\" font-family=\"Times,serif\" font-size=\"14.00\">a</text>\n<polyline fill=\"none\" stroke=\"black\" points=\"336,-82.5 336,-118.5 \"/>\n<text text-anchor=\"middle\" x=\"376\" y=\"-96.8\" font-family=\"Times,serif\" font-size=\"14.00\">data 3.0000</text>\n<polyline fill=\"none\" stroke=\"black\" points=\"416,-82.5 416,-118.5 \"/>\n<text text-anchor=\"middle\" x=\"457\" y=\"-96.8\" font-family=\"Times,serif\" font-size=\"14.00\">grad 0.0000</text>\n</g>\n<!-- 135604404316784&#45;&gt;135604404320192+ -->\n<g id=\"edge4\" class=\"edge\">\n<title>135604404316784&#45;&gt;135604404320192+</title>\n<path fill=\"none\" stroke=\"black\" d=\"M498.3,-83.97C508.31,-82.17 517.99,-80.42 526.66,-78.86\"/>\n<polygon fill=\"black\" stroke=\"black\" points=\"527.46,-82.28 536.69,-77.06 526.22,-75.39 527.46,-82.28\"/>\n</g>\n<!-- 135604404624000 -->\n<g id=\"node5\" class=\"node\">\n<title>135604404624000</title>\n<polygon fill=\"none\" stroke=\"black\" points=\"0,-0.5 0,-36.5 185,-36.5 185,-0.5 0,-0.5\"/>\n<text text-anchor=\"middle\" x=\"11.5\" y=\"-14.8\" font-family=\"Times,serif\" font-size=\"14.00\">b</text>\n<polyline fill=\"none\" stroke=\"black\" points=\"23,-0.5 23,-36.5 \"/>\n<text text-anchor=\"middle\" x=\"63\" y=\"-14.8\" font-family=\"Times,serif\" font-size=\"14.00\">data 2.0000</text>\n<polyline fill=\"none\" stroke=\"black\" points=\"103,-0.5 103,-36.5 \"/>\n<text text-anchor=\"middle\" x=\"144\" y=\"-14.8\" font-family=\"Times,serif\" font-size=\"14.00\">grad 0.0000</text>\n</g>\n<!-- 135604404624000&#45;&gt;135604404316688* -->\n<g id=\"edge8\" class=\"edge\">\n<title>135604404624000&#45;&gt;135604404316688*</title>\n<path fill=\"none\" stroke=\"black\" d=\"M185.01,-34.6C194.49,-36.26 203.66,-37.88 211.9,-39.33\"/>\n<polygon fill=\"black\" stroke=\"black\" points=\"211.36,-42.78 221.81,-41.07 212.57,-35.89 211.36,-42.78\"/>\n</g>\n<!-- 135604404320528 -->\n<g id=\"node6\" class=\"node\">\n<title>135604404320528</title>\n<polygon fill=\"none\" stroke=\"black\" points=\"944,-81.5 944,-117.5 1141,-117.5 1141,-81.5 944,-81.5\"/>\n<text text-anchor=\"middle\" x=\"955.5\" y=\"-95.8\" font-family=\"Times,serif\" font-size=\"14.00\">x</text>\n<polyline fill=\"none\" stroke=\"black\" points=\"967,-81.5 967,-117.5 \"/>\n<text text-anchor=\"middle\" x=\"1013\" y=\"-95.8\" font-family=\"Times,serif\" font-size=\"14.00\">data &#45;52.0000</text>\n<polyline fill=\"none\" stroke=\"black\" points=\"1059,-81.5 1059,-117.5 \"/>\n<text text-anchor=\"middle\" x=\"1100\" y=\"-95.8\" font-family=\"Times,serif\" font-size=\"14.00\">grad 0.0000</text>\n</g>\n<!-- 135604404320528* -->\n<g id=\"node7\" class=\"node\">\n<title>135604404320528*</title>\n<ellipse fill=\"none\" stroke=\"black\" cx=\"881\" cy=\"-99.5\" rx=\"27\" ry=\"18\"/>\n<text text-anchor=\"middle\" x=\"881\" y=\"-95.8\" font-family=\"Times,serif\" font-size=\"14.00\">*</text>\n</g>\n<!-- 135604404320528*&#45;&gt;135604404320528 -->\n<g id=\"edge2\" class=\"edge\">\n<title>135604404320528*&#45;&gt;135604404320528</title>\n<path fill=\"none\" stroke=\"black\" d=\"M908.34,-99.5C915.81,-99.5 924.44,-99.5 933.64,-99.5\"/>\n<polygon fill=\"black\" stroke=\"black\" points=\"933.83,-103 943.83,-99.5 933.83,-96 933.83,-103\"/>\n</g>\n<!-- 135604404319568 -->\n<g id=\"node8\" class=\"node\">\n<title>135604404319568</title>\n<polygon fill=\"none\" stroke=\"black\" points=\"627,-109.5 627,-145.5 817,-145.5 817,-109.5 627,-109.5\"/>\n<text text-anchor=\"middle\" x=\"638.5\" y=\"-123.8\" font-family=\"Times,serif\" font-size=\"14.00\">k</text>\n<polyline fill=\"none\" stroke=\"black\" points=\"650,-109.5 650,-145.5 \"/>\n<text text-anchor=\"middle\" x=\"692.5\" y=\"-123.8\" font-family=\"Times,serif\" font-size=\"14.00\">data &#45;4.0000</text>\n<polyline fill=\"none\" stroke=\"black\" points=\"735,-109.5 735,-145.5 \"/>\n<text text-anchor=\"middle\" x=\"776\" y=\"-123.8\" font-family=\"Times,serif\" font-size=\"14.00\">grad 0.0000</text>\n</g>\n<!-- 135604404319568&#45;&gt;135604404320528* -->\n<g id=\"edge9\" class=\"edge\">\n<title>135604404319568&#45;&gt;135604404320528*</title>\n<path fill=\"none\" stroke=\"black\" d=\"M817.05,-110.73C826.89,-108.97 836.39,-107.28 844.9,-105.76\"/>\n<polygon fill=\"black\" stroke=\"black\" points=\"845.52,-109.2 854.75,-104 844.29,-102.31 845.52,-109.2\"/>\n</g>\n<!-- 135604404320192 -->\n<g id=\"node9\" class=\"node\">\n<title>135604404320192</title>\n<polygon fill=\"none\" stroke=\"black\" points=\"626,-54.5 626,-90.5 818,-90.5 818,-54.5 626,-54.5\"/>\n<text text-anchor=\"middle\" x=\"637.5\" y=\"-68.8\" font-family=\"Times,serif\" font-size=\"14.00\">g</text>\n<polyline fill=\"none\" stroke=\"black\" points=\"649,-54.5 649,-90.5 \"/>\n<text text-anchor=\"middle\" x=\"692.5\" y=\"-68.8\" font-family=\"Times,serif\" font-size=\"14.00\">data 13.0000</text>\n<polyline fill=\"none\" stroke=\"black\" points=\"736,-54.5 736,-90.5 \"/>\n<text text-anchor=\"middle\" x=\"777\" y=\"-68.8\" font-family=\"Times,serif\" font-size=\"14.00\">grad 0.0000</text>\n</g>\n<!-- 135604404320192&#45;&gt;135604404320528* -->\n<g id=\"edge7\" class=\"edge\">\n<title>135604404320192&#45;&gt;135604404320528*</title>\n<path fill=\"none\" stroke=\"black\" d=\"M818.4,-88.91C827.69,-90.5 836.64,-92.04 844.71,-93.43\"/>\n<polygon fill=\"black\" stroke=\"black\" points=\"844.32,-96.91 854.76,-95.16 845.5,-90.02 844.32,-96.91\"/>\n</g>\n<!-- 135604404320192+&#45;&gt;135604404320192 -->\n<g id=\"edge3\" class=\"edge\">\n<title>135604404320192+&#45;&gt;135604404320192</title>\n<path fill=\"none\" stroke=\"black\" d=\"M590.28,-72.5C597.78,-72.5 606.44,-72.5 615.67,-72.5\"/>\n<polygon fill=\"black\" stroke=\"black\" points=\"615.87,-76 625.87,-72.5 615.87,-69 615.87,-76\"/>\n</g>\n</g>\n</svg>\n",
            "text/plain": [
              "<graphviz.graphs.Digraph at 0x7b54df67bc40>"
            ]
          },
          "metadata": {},
          "execution_count": 22
        }
      ]
    },
    {
      "cell_type": "code",
      "source": [
        "# Below this cell we will calculate gradients and in this cell we will be finalizing and updating grad\n",
        "x.grad = 1.0\n",
        "g.grad = -4.0\n",
        "k.grad = 13.0\n",
        "a.grad = -4.0\n",
        "l.grad = -4.0\n",
        "c.grad = -8.0\n",
        "b.grad = -20.0"
      ],
      "metadata": {
        "id": "atqn4P9uneDx"
      },
      "execution_count": null,
      "outputs": []
    },
    {
      "cell_type": "code",
      "source": [
        "# Through this function we can find grad through manually bumping value by h\n",
        "def find_grad():\n",
        "  h = .0000001\n",
        "  a = Value(3,label='a')\n",
        "  b = Value(2,label='b')\n",
        "  c = Value(5,label='c')\n",
        "  l = c * b ; l.label = 'l'\n",
        "  g = l + a ; g.label = 'g'\n",
        "  k = Value(-4,label = 'k')\n",
        "  x =g*k ; x.label = 'x'\n",
        "\n",
        "  L1 = x.data\n",
        "\n",
        "  a = Value(3,label='a')\n",
        "  b = Value(2,label='b')\n",
        "  b.data += h\n",
        "  c = Value(5,label='c')\n",
        "  l = c * b ; l.label = 'l'\n",
        "  g = l + a ; g.label = 'g'\n",
        "  k = Value(-4,label = 'k')\n",
        "  x =g*k ; x.label = 'x'\n",
        "\n",
        "\n",
        "\n",
        "  L2 = x.data\n",
        "  grad = (L2-L1)/h\n",
        "\n",
        "  return grad\n",
        "\n"
      ],
      "metadata": {
        "id": "b-0BS1hlda1q"
      },
      "execution_count": null,
      "outputs": []
    },
    {
      "cell_type": "code",
      "source": [
        "find_grad()"
      ],
      "metadata": {
        "colab": {
          "base_uri": "https://localhost:8080/"
        },
        "id": "4iwk6yiKiMxl",
        "outputId": "0b7cf563-8c30-4d93-ad39-f99c6dcca4ba"
      },
      "execution_count": null,
      "outputs": [
        {
          "output_type": "execute_result",
          "data": {
            "text/plain": [
              "-19.999999949504854"
            ]
          },
          "metadata": {},
          "execution_count": 66
        }
      ]
    },
    {
      "cell_type": "code",
      "source": [
        "# Through calculus let's see this as well\n",
        "# f1 = x\n",
        "# f2 = x + h\n",
        "# grad = (f2-f1)/h\n",
        "# grad = (x+h -x)/h = 1"
      ],
      "metadata": {
        "id": "gxd_2DTjiRSk"
      },
      "execution_count": null,
      "outputs": []
    },
    {
      "cell_type": "code",
      "source": [
        "# let's see what's happening at node kgx\n",
        "# x = l * g\n",
        "# dx/dg = k\n",
        "# dx/dk = g\n",
        "# Through find_grad also we are able to confirm this\n",
        "# (k*g+h)- (k*g)/h = kg+kh-kg/h = k\n",
        "\n",
        "# dx/db = dx/dl * dl/db\n",
        "# dx/db = -4 * 5\n",
        "# dx/dc = -4* 2"
      ],
      "metadata": {
        "id": "wgVRxxB8jLZW"
      },
      "execution_count": null,
      "outputs": []
    },
    {
      "cell_type": "code",
      "source": [
        "# After calculating grad let's draw the graph again\n",
        "draw_dot(x)"
      ],
      "metadata": {
        "colab": {
          "base_uri": "https://localhost:8080/",
          "height": 247
        },
        "id": "Km_UY1Vps-Is",
        "outputId": "3c5c060c-bc24-41aa-9c85-4ce0ef353cfb"
      },
      "execution_count": null,
      "outputs": [
        {
          "output_type": "execute_result",
          "data": {
            "image/svg+xml": "<?xml version=\"1.0\" encoding=\"UTF-8\" standalone=\"no\"?>\n<!DOCTYPE svg PUBLIC \"-//W3C//DTD SVG 1.1//EN\"\n \"http://www.w3.org/Graphics/SVG/1.1/DTD/svg11.dtd\">\n<!-- Generated by graphviz version 2.43.0 (0)\n -->\n<!-- Title: %3 Pages: 1 -->\n<svg width=\"1169pt\" height=\"154pt\"\n viewBox=\"0.00 0.00 1169.00 154.00\" xmlns=\"http://www.w3.org/2000/svg\" xmlns:xlink=\"http://www.w3.org/1999/xlink\">\n<g id=\"graph0\" class=\"graph\" transform=\"scale(1 1) rotate(0) translate(4 150)\">\n<title>%3</title>\n<polygon fill=\"white\" stroke=\"transparent\" points=\"-4,4 -4,-150 1165,-150 1165,4 -4,4\"/>\n<!-- 135604404316688 -->\n<g id=\"node1\" class=\"node\">\n<title>135604404316688</title>\n<polygon fill=\"none\" stroke=\"black\" points=\"322,-27.5 322,-63.5 515,-63.5 515,-27.5 322,-27.5\"/>\n<text text-anchor=\"middle\" x=\"332\" y=\"-41.8\" font-family=\"Times,serif\" font-size=\"14.00\">l</text>\n<polyline fill=\"none\" stroke=\"black\" points=\"342,-27.5 342,-63.5 \"/>\n<text text-anchor=\"middle\" x=\"385.5\" y=\"-41.8\" font-family=\"Times,serif\" font-size=\"14.00\">data 10.0000</text>\n<polyline fill=\"none\" stroke=\"black\" points=\"429,-27.5 429,-63.5 \"/>\n<text text-anchor=\"middle\" x=\"472\" y=\"-41.8\" font-family=\"Times,serif\" font-size=\"14.00\">grad &#45;4.0000</text>\n</g>\n<!-- 135604404320192+ -->\n<g id=\"node10\" class=\"node\">\n<title>135604404320192+</title>\n<ellipse fill=\"none\" stroke=\"black\" cx=\"578\" cy=\"-72.5\" rx=\"27\" ry=\"18\"/>\n<text text-anchor=\"middle\" x=\"578\" y=\"-68.8\" font-family=\"Times,serif\" font-size=\"14.00\">+</text>\n</g>\n<!-- 135604404316688&#45;&gt;135604404320192+ -->\n<g id=\"edge6\" class=\"edge\">\n<title>135604404316688&#45;&gt;135604404320192+</title>\n<path fill=\"none\" stroke=\"black\" d=\"M515.2,-61.91C524.52,-63.5 533.5,-65.04 541.6,-66.43\"/>\n<polygon fill=\"black\" stroke=\"black\" points=\"541.24,-69.92 551.68,-68.16 542.42,-63.02 541.24,-69.92\"/>\n</g>\n<!-- 135604404316688* -->\n<g id=\"node2\" class=\"node\">\n<title>135604404316688*</title>\n<ellipse fill=\"none\" stroke=\"black\" cx=\"259\" cy=\"-45.5\" rx=\"27\" ry=\"18\"/>\n<text text-anchor=\"middle\" x=\"259\" y=\"-41.8\" font-family=\"Times,serif\" font-size=\"14.00\">*</text>\n</g>\n<!-- 135604404316688*&#45;&gt;135604404316688 -->\n<g id=\"edge1\" class=\"edge\">\n<title>135604404316688*&#45;&gt;135604404316688</title>\n<path fill=\"none\" stroke=\"black\" d=\"M286.01,-45.5C293.52,-45.5 302.21,-45.5 311.47,-45.5\"/>\n<polygon fill=\"black\" stroke=\"black\" points=\"311.72,-49 321.72,-45.5 311.72,-42 311.72,-49\"/>\n</g>\n<!-- 135604404623424 -->\n<g id=\"node3\" class=\"node\">\n<title>135604404623424</title>\n<polygon fill=\"none\" stroke=\"black\" points=\"3.5,-55.5 3.5,-91.5 192.5,-91.5 192.5,-55.5 3.5,-55.5\"/>\n<text text-anchor=\"middle\" x=\"15\" y=\"-69.8\" font-family=\"Times,serif\" font-size=\"14.00\">c</text>\n<polyline fill=\"none\" stroke=\"black\" points=\"26.5,-55.5 26.5,-91.5 \"/>\n<text text-anchor=\"middle\" x=\"66.5\" y=\"-69.8\" font-family=\"Times,serif\" font-size=\"14.00\">data 5.0000</text>\n<polyline fill=\"none\" stroke=\"black\" points=\"106.5,-55.5 106.5,-91.5 \"/>\n<text text-anchor=\"middle\" x=\"149.5\" y=\"-69.8\" font-family=\"Times,serif\" font-size=\"14.00\">grad &#45;8.0000</text>\n</g>\n<!-- 135604404623424&#45;&gt;135604404316688* -->\n<g id=\"edge5\" class=\"edge\">\n<title>135604404623424&#45;&gt;135604404316688*</title>\n<path fill=\"none\" stroke=\"black\" d=\"M192.87,-56.97C203.4,-55.11 213.59,-53.32 222.66,-51.72\"/>\n<polygon fill=\"black\" stroke=\"black\" points=\"223.49,-55.13 232.74,-49.95 222.28,-48.24 223.49,-55.13\"/>\n</g>\n<!-- 135604404316784 -->\n<g id=\"node4\" class=\"node\">\n<title>135604404316784</title>\n<polygon fill=\"none\" stroke=\"black\" points=\"324,-82.5 324,-118.5 513,-118.5 513,-82.5 324,-82.5\"/>\n<text text-anchor=\"middle\" x=\"335.5\" y=\"-96.8\" font-family=\"Times,serif\" font-size=\"14.00\">a</text>\n<polyline fill=\"none\" stroke=\"black\" points=\"347,-82.5 347,-118.5 \"/>\n<text text-anchor=\"middle\" x=\"387\" y=\"-96.8\" font-family=\"Times,serif\" font-size=\"14.00\">data 3.0000</text>\n<polyline fill=\"none\" stroke=\"black\" points=\"427,-82.5 427,-118.5 \"/>\n<text text-anchor=\"middle\" x=\"470\" y=\"-96.8\" font-family=\"Times,serif\" font-size=\"14.00\">grad &#45;4.0000</text>\n</g>\n<!-- 135604404316784&#45;&gt;135604404320192+ -->\n<g id=\"edge4\" class=\"edge\">\n<title>135604404316784&#45;&gt;135604404320192+</title>\n<path fill=\"none\" stroke=\"black\" d=\"M513.39,-83.81C523.42,-82.03 533.1,-80.3 541.76,-78.77\"/>\n<polygon fill=\"black\" stroke=\"black\" points=\"542.53,-82.18 551.77,-76.99 541.31,-75.29 542.53,-82.18\"/>\n</g>\n<!-- 135604404624000 -->\n<g id=\"node5\" class=\"node\">\n<title>135604404624000</title>\n<polygon fill=\"none\" stroke=\"black\" points=\"0,-0.5 0,-36.5 196,-36.5 196,-0.5 0,-0.5\"/>\n<text text-anchor=\"middle\" x=\"11.5\" y=\"-14.8\" font-family=\"Times,serif\" font-size=\"14.00\">b</text>\n<polyline fill=\"none\" stroke=\"black\" points=\"23,-0.5 23,-36.5 \"/>\n<text text-anchor=\"middle\" x=\"63\" y=\"-14.8\" font-family=\"Times,serif\" font-size=\"14.00\">data 2.0000</text>\n<polyline fill=\"none\" stroke=\"black\" points=\"103,-0.5 103,-36.5 \"/>\n<text text-anchor=\"middle\" x=\"149.5\" y=\"-14.8\" font-family=\"Times,serif\" font-size=\"14.00\">grad &#45;20.0000</text>\n</g>\n<!-- 135604404624000&#45;&gt;135604404316688* -->\n<g id=\"edge8\" class=\"edge\">\n<title>135604404624000&#45;&gt;135604404316688*</title>\n<path fill=\"none\" stroke=\"black\" d=\"M196.07,-34.98C205.42,-36.57 214.43,-38.1 222.55,-39.48\"/>\n<polygon fill=\"black\" stroke=\"black\" points=\"222.21,-42.97 232.65,-41.2 223.38,-36.07 222.21,-42.97\"/>\n</g>\n<!-- 135604404320528 -->\n<g id=\"node6\" class=\"node\">\n<title>135604404320528</title>\n<polygon fill=\"none\" stroke=\"black\" points=\"964,-81.5 964,-117.5 1161,-117.5 1161,-81.5 964,-81.5\"/>\n<text text-anchor=\"middle\" x=\"975.5\" y=\"-95.8\" font-family=\"Times,serif\" font-size=\"14.00\">x</text>\n<polyline fill=\"none\" stroke=\"black\" points=\"987,-81.5 987,-117.5 \"/>\n<text text-anchor=\"middle\" x=\"1033\" y=\"-95.8\" font-family=\"Times,serif\" font-size=\"14.00\">data &#45;52.0000</text>\n<polyline fill=\"none\" stroke=\"black\" points=\"1079,-81.5 1079,-117.5 \"/>\n<text text-anchor=\"middle\" x=\"1120\" y=\"-95.8\" font-family=\"Times,serif\" font-size=\"14.00\">grad 1.0000</text>\n</g>\n<!-- 135604404320528* -->\n<g id=\"node7\" class=\"node\">\n<title>135604404320528*</title>\n<ellipse fill=\"none\" stroke=\"black\" cx=\"901\" cy=\"-99.5\" rx=\"27\" ry=\"18\"/>\n<text text-anchor=\"middle\" x=\"901\" y=\"-95.8\" font-family=\"Times,serif\" font-size=\"14.00\">*</text>\n</g>\n<!-- 135604404320528*&#45;&gt;135604404320528 -->\n<g id=\"edge2\" class=\"edge\">\n<title>135604404320528*&#45;&gt;135604404320528</title>\n<path fill=\"none\" stroke=\"black\" d=\"M928.34,-99.5C935.81,-99.5 944.44,-99.5 953.64,-99.5\"/>\n<polygon fill=\"black\" stroke=\"black\" points=\"953.83,-103 963.83,-99.5 953.83,-96 953.83,-103\"/>\n</g>\n<!-- 135604404319568 -->\n<g id=\"node8\" class=\"node\">\n<title>135604404319568</title>\n<polygon fill=\"none\" stroke=\"black\" points=\"641,-109.5 641,-145.5 838,-145.5 838,-109.5 641,-109.5\"/>\n<text text-anchor=\"middle\" x=\"652.5\" y=\"-123.8\" font-family=\"Times,serif\" font-size=\"14.00\">k</text>\n<polyline fill=\"none\" stroke=\"black\" points=\"664,-109.5 664,-145.5 \"/>\n<text text-anchor=\"middle\" x=\"706.5\" y=\"-123.8\" font-family=\"Times,serif\" font-size=\"14.00\">data &#45;4.0000</text>\n<polyline fill=\"none\" stroke=\"black\" points=\"749,-109.5 749,-145.5 \"/>\n<text text-anchor=\"middle\" x=\"793.5\" y=\"-123.8\" font-family=\"Times,serif\" font-size=\"14.00\">grad 13.0000</text>\n</g>\n<!-- 135604404319568&#45;&gt;135604404320528* -->\n<g id=\"edge9\" class=\"edge\">\n<title>135604404319568&#45;&gt;135604404320528*</title>\n<path fill=\"none\" stroke=\"black\" d=\"M838.33,-110.33C847.66,-108.69 856.64,-107.11 864.72,-105.69\"/>\n<polygon fill=\"black\" stroke=\"black\" points=\"865.54,-109.1 874.78,-103.93 864.33,-102.21 865.54,-109.1\"/>\n</g>\n<!-- 135604404320192 -->\n<g id=\"node9\" class=\"node\">\n<title>135604404320192</title>\n<polygon fill=\"none\" stroke=\"black\" points=\"641.5,-54.5 641.5,-90.5 837.5,-90.5 837.5,-54.5 641.5,-54.5\"/>\n<text text-anchor=\"middle\" x=\"653\" y=\"-68.8\" font-family=\"Times,serif\" font-size=\"14.00\">g</text>\n<polyline fill=\"none\" stroke=\"black\" points=\"664.5,-54.5 664.5,-90.5 \"/>\n<text text-anchor=\"middle\" x=\"708\" y=\"-68.8\" font-family=\"Times,serif\" font-size=\"14.00\">data 13.0000</text>\n<polyline fill=\"none\" stroke=\"black\" points=\"751.5,-54.5 751.5,-90.5 \"/>\n<text text-anchor=\"middle\" x=\"794.5\" y=\"-68.8\" font-family=\"Times,serif\" font-size=\"14.00\">grad &#45;4.0000</text>\n</g>\n<!-- 135604404320192&#45;&gt;135604404320528* -->\n<g id=\"edge7\" class=\"edge\">\n<title>135604404320192&#45;&gt;135604404320528*</title>\n<path fill=\"none\" stroke=\"black\" d=\"M837.88,-88.98C847.36,-90.59 856.5,-92.14 864.71,-93.53\"/>\n<polygon fill=\"black\" stroke=\"black\" points=\"864.13,-96.98 874.57,-95.2 865.3,-90.08 864.13,-96.98\"/>\n</g>\n<!-- 135604404320192+&#45;&gt;135604404320192 -->\n<g id=\"edge3\" class=\"edge\">\n<title>135604404320192+&#45;&gt;135604404320192</title>\n<path fill=\"none\" stroke=\"black\" d=\"M605.34,-72.5C612.88,-72.5 621.59,-72.5 630.88,-72.5\"/>\n<polygon fill=\"black\" stroke=\"black\" points=\"631.17,-76 641.17,-72.5 631.17,-69 631.17,-76\"/>\n</g>\n</g>\n</svg>\n",
            "text/plain": [
              "<graphviz.graphs.Digraph at 0x7b54dc5971c0>"
            ]
          },
          "metadata": {},
          "execution_count": 24
        }
      ]
    },
    {
      "cell_type": "code",
      "source": [
        "# Let's change the weights so that the loss minimises i.e in the direction of the gradient.\n",
        "c.data += 0.01 + c.grad\n",
        "b.data += 0.01 + b.grad\n",
        "a.data += 0.01 + a.grad\n",
        "k.data += 0.01 + k.grad\n",
        "\n",
        "# The reason we are not changing grad of the rest of values because they are dependant and only a,b,c & k are independent\n"
      ],
      "metadata": {
        "id": "DITMGFOHtIIF"
      },
      "execution_count": null,
      "outputs": []
    },
    {
      "cell_type": "code",
      "source": [
        "draw_dot(x)"
      ],
      "metadata": {
        "colab": {
          "base_uri": "https://localhost:8080/",
          "height": 249
        },
        "id": "qUDhY99StuzY",
        "outputId": "b60d8c45-34ba-4513-de52-016a057ce581"
      },
      "execution_count": null,
      "outputs": [
        {
          "output_type": "execute_result",
          "data": {
            "image/svg+xml": "<?xml version=\"1.0\" encoding=\"UTF-8\" standalone=\"no\"?>\n<!DOCTYPE svg PUBLIC \"-//W3C//DTD SVG 1.1//EN\"\n \"http://www.w3.org/Graphics/SVG/1.1/DTD/svg11.dtd\">\n<!-- Generated by graphviz version 2.43.0 (0)\n -->\n<!-- Title: %3 Pages: 1 -->\n<svg width=\"1177pt\" height=\"156pt\"\n viewBox=\"0.00 0.00 1177.00 156.00\" xmlns=\"http://www.w3.org/2000/svg\" xmlns:xlink=\"http://www.w3.org/1999/xlink\">\n<g id=\"graph0\" class=\"graph\" transform=\"scale(1 1) rotate(0) translate(4 152)\">\n<title>%3</title>\n<polygon fill=\"white\" stroke=\"transparent\" points=\"-4,4 -4,-152 1173,-152 1173,4 -4,4\"/>\n<!-- 135603577086464 -->\n<g id=\"node1\" class=\"node\">\n<title>135603577086464</title>\n<polygon fill=\"none\" stroke=\"black\" points=\"7,-111.5 7,-147.5 201,-147.5 201,-111.5 7,-111.5\"/>\n<text text-anchor=\"middle\" x=\"18.5\" y=\"-125.8\" font-family=\"Times,serif\" font-size=\"14.00\">c</text>\n<polyline fill=\"none\" stroke=\"black\" points=\"30,-111.5 30,-147.5 \"/>\n<text text-anchor=\"middle\" x=\"72.5\" y=\"-125.8\" font-family=\"Times,serif\" font-size=\"14.00\">data &#45;2.9900</text>\n<polyline fill=\"none\" stroke=\"black\" points=\"115,-111.5 115,-147.5 \"/>\n<text text-anchor=\"middle\" x=\"158\" y=\"-125.8\" font-family=\"Times,serif\" font-size=\"14.00\">grad &#45;8.0000</text>\n</g>\n<!-- 135603577090688* -->\n<g id=\"node7\" class=\"node\">\n<title>135603577090688*</title>\n<ellipse fill=\"none\" stroke=\"black\" cx=\"271\" cy=\"-101.5\" rx=\"27\" ry=\"18\"/>\n<text text-anchor=\"middle\" x=\"271\" y=\"-97.8\" font-family=\"Times,serif\" font-size=\"14.00\">*</text>\n</g>\n<!-- 135603577086464&#45;&gt;135603577090688* -->\n<g id=\"edge6\" class=\"edge\">\n<title>135603577086464&#45;&gt;135603577090688*</title>\n<path fill=\"none\" stroke=\"black\" d=\"M201.46,-113.13C213.29,-111.12 224.72,-109.18 234.75,-107.48\"/>\n<polygon fill=\"black\" stroke=\"black\" points=\"235.38,-110.93 244.65,-105.8 234.21,-104.02 235.38,-110.93\"/>\n</g>\n<!-- 135603577091168 -->\n<g id=\"node2\" class=\"node\">\n<title>135603577091168</title>\n<polygon fill=\"none\" stroke=\"black\" points=\"654,-55.5 654,-91.5 846,-91.5 846,-55.5 654,-55.5\"/>\n<text text-anchor=\"middle\" x=\"665.5\" y=\"-69.8\" font-family=\"Times,serif\" font-size=\"14.00\">g</text>\n<polyline fill=\"none\" stroke=\"black\" points=\"677,-55.5 677,-91.5 \"/>\n<text text-anchor=\"middle\" x=\"720.5\" y=\"-69.8\" font-family=\"Times,serif\" font-size=\"14.00\">data 13.0000</text>\n<polyline fill=\"none\" stroke=\"black\" points=\"764,-55.5 764,-91.5 \"/>\n<text text-anchor=\"middle\" x=\"805\" y=\"-69.8\" font-family=\"Times,serif\" font-size=\"14.00\">grad 0.0000</text>\n</g>\n<!-- 135603577085552* -->\n<g id=\"node5\" class=\"node\">\n<title>135603577085552*</title>\n<ellipse fill=\"none\" stroke=\"black\" cx=\"909\" cy=\"-45.5\" rx=\"27\" ry=\"18\"/>\n<text text-anchor=\"middle\" x=\"909\" y=\"-41.8\" font-family=\"Times,serif\" font-size=\"14.00\">*</text>\n</g>\n<!-- 135603577091168&#45;&gt;135603577085552* -->\n<g id=\"edge7\" class=\"edge\">\n<title>135603577091168&#45;&gt;135603577085552*</title>\n<path fill=\"none\" stroke=\"black\" d=\"M846.4,-56.49C855.69,-54.83 864.64,-53.23 872.71,-51.79\"/>\n<polygon fill=\"black\" stroke=\"black\" points=\"873.53,-55.2 882.76,-50 872.31,-48.31 873.53,-55.2\"/>\n</g>\n<!-- 135603577091168+ -->\n<g id=\"node3\" class=\"node\">\n<title>135603577091168+</title>\n<ellipse fill=\"none\" stroke=\"black\" cx=\"591\" cy=\"-73.5\" rx=\"27\" ry=\"18\"/>\n<text text-anchor=\"middle\" x=\"591\" y=\"-69.8\" font-family=\"Times,serif\" font-size=\"14.00\">+</text>\n</g>\n<!-- 135603577091168+&#45;&gt;135603577091168 -->\n<g id=\"edge1\" class=\"edge\">\n<title>135603577091168+&#45;&gt;135603577091168</title>\n<path fill=\"none\" stroke=\"black\" d=\"M618.28,-73.5C625.78,-73.5 634.44,-73.5 643.67,-73.5\"/>\n<polygon fill=\"black\" stroke=\"black\" points=\"643.87,-77 653.87,-73.5 643.87,-70 643.87,-77\"/>\n</g>\n<!-- 135603577085552 -->\n<g id=\"node4\" class=\"node\">\n<title>135603577085552</title>\n<polygon fill=\"none\" stroke=\"black\" points=\"972,-27.5 972,-63.5 1169,-63.5 1169,-27.5 972,-27.5\"/>\n<text text-anchor=\"middle\" x=\"983.5\" y=\"-41.8\" font-family=\"Times,serif\" font-size=\"14.00\">x</text>\n<polyline fill=\"none\" stroke=\"black\" points=\"995,-27.5 995,-63.5 \"/>\n<text text-anchor=\"middle\" x=\"1041\" y=\"-41.8\" font-family=\"Times,serif\" font-size=\"14.00\">data &#45;52.0000</text>\n<polyline fill=\"none\" stroke=\"black\" points=\"1087,-27.5 1087,-63.5 \"/>\n<text text-anchor=\"middle\" x=\"1128\" y=\"-41.8\" font-family=\"Times,serif\" font-size=\"14.00\">grad 0.0000</text>\n</g>\n<!-- 135603577085552*&#45;&gt;135603577085552 -->\n<g id=\"edge2\" class=\"edge\">\n<title>135603577085552*&#45;&gt;135603577085552</title>\n<path fill=\"none\" stroke=\"black\" d=\"M936.34,-45.5C943.81,-45.5 952.44,-45.5 961.64,-45.5\"/>\n<polygon fill=\"black\" stroke=\"black\" points=\"961.83,-49 971.83,-45.5 961.83,-42 961.83,-49\"/>\n</g>\n<!-- 135603577090688 -->\n<g id=\"node6\" class=\"node\">\n<title>135603577090688</title>\n<polygon fill=\"none\" stroke=\"black\" points=\"336.5,-83.5 336.5,-119.5 525.5,-119.5 525.5,-83.5 336.5,-83.5\"/>\n<text text-anchor=\"middle\" x=\"346.5\" y=\"-97.8\" font-family=\"Times,serif\" font-size=\"14.00\">l</text>\n<polyline fill=\"none\" stroke=\"black\" points=\"356.5,-83.5 356.5,-119.5 \"/>\n<text text-anchor=\"middle\" x=\"400\" y=\"-97.8\" font-family=\"Times,serif\" font-size=\"14.00\">data 10.0000</text>\n<polyline fill=\"none\" stroke=\"black\" points=\"443.5,-83.5 443.5,-119.5 \"/>\n<text text-anchor=\"middle\" x=\"484.5\" y=\"-97.8\" font-family=\"Times,serif\" font-size=\"14.00\">grad 0.0000</text>\n</g>\n<!-- 135603577090688&#45;&gt;135603577091168+ -->\n<g id=\"edge8\" class=\"edge\">\n<title>135603577090688&#45;&gt;135603577091168+</title>\n<path fill=\"none\" stroke=\"black\" d=\"M525.74,-84.89C536.05,-83.06 546.02,-81.29 554.9,-79.72\"/>\n<polygon fill=\"black\" stroke=\"black\" points=\"555.55,-83.16 564.79,-77.97 554.33,-76.27 555.55,-83.16\"/>\n</g>\n<!-- 135603577090688*&#45;&gt;135603577090688 -->\n<g id=\"edge3\" class=\"edge\">\n<title>135603577090688*&#45;&gt;135603577090688</title>\n<path fill=\"none\" stroke=\"black\" d=\"M298.09,-101.5C306.33,-101.5 315.98,-101.5 326.26,-101.5\"/>\n<polygon fill=\"black\" stroke=\"black\" points=\"326.28,-105 336.28,-101.5 326.28,-98 326.28,-105\"/>\n</g>\n<!-- 135603577091216 -->\n<g id=\"node8\" class=\"node\">\n<title>135603577091216</title>\n<polygon fill=\"none\" stroke=\"black\" points=\"334,-28.5 334,-64.5 528,-64.5 528,-28.5 334,-28.5\"/>\n<text text-anchor=\"middle\" x=\"345.5\" y=\"-42.8\" font-family=\"Times,serif\" font-size=\"14.00\">a</text>\n<polyline fill=\"none\" stroke=\"black\" points=\"357,-28.5 357,-64.5 \"/>\n<text text-anchor=\"middle\" x=\"399.5\" y=\"-42.8\" font-family=\"Times,serif\" font-size=\"14.00\">data &#45;0.9900</text>\n<polyline fill=\"none\" stroke=\"black\" points=\"442,-28.5 442,-64.5 \"/>\n<text text-anchor=\"middle\" x=\"485\" y=\"-42.8\" font-family=\"Times,serif\" font-size=\"14.00\">grad &#45;4.0000</text>\n</g>\n<!-- 135603577091216&#45;&gt;135603577091168+ -->\n<g id=\"edge9\" class=\"edge\">\n<title>135603577091216&#45;&gt;135603577091168+</title>\n<path fill=\"none\" stroke=\"black\" d=\"M528.01,-62.91C537.35,-64.5 546.37,-66.04 554.49,-67.43\"/>\n<polygon fill=\"black\" stroke=\"black\" points=\"554.16,-70.93 564.6,-69.16 555.34,-64.03 554.16,-70.93\"/>\n</g>\n<!-- 135603577082528 -->\n<g id=\"node9\" class=\"node\">\n<title>135603577082528</title>\n<polygon fill=\"none\" stroke=\"black\" points=\"654,-0.5 654,-36.5 846,-36.5 846,-0.5 654,-0.5\"/>\n<text text-anchor=\"middle\" x=\"665.5\" y=\"-14.8\" font-family=\"Times,serif\" font-size=\"14.00\">k</text>\n<polyline fill=\"none\" stroke=\"black\" points=\"677,-0.5 677,-36.5 \"/>\n<text text-anchor=\"middle\" x=\"717\" y=\"-14.8\" font-family=\"Times,serif\" font-size=\"14.00\">data 9.0100</text>\n<polyline fill=\"none\" stroke=\"black\" points=\"757,-0.5 757,-36.5 \"/>\n<text text-anchor=\"middle\" x=\"801.5\" y=\"-14.8\" font-family=\"Times,serif\" font-size=\"14.00\">grad 13.0000</text>\n</g>\n<!-- 135603577082528&#45;&gt;135603577085552* -->\n<g id=\"edge4\" class=\"edge\">\n<title>135603577082528&#45;&gt;135603577085552*</title>\n<path fill=\"none\" stroke=\"black\" d=\"M846.4,-34.91C855.69,-36.5 864.64,-38.04 872.71,-39.43\"/>\n<polygon fill=\"black\" stroke=\"black\" points=\"872.32,-42.91 882.76,-41.16 873.5,-36.02 872.32,-42.91\"/>\n</g>\n<!-- 135603577086368 -->\n<g id=\"node10\" class=\"node\">\n<title>135603577086368</title>\n<polygon fill=\"none\" stroke=\"black\" points=\"0,-56.5 0,-92.5 208,-92.5 208,-56.5 0,-56.5\"/>\n<text text-anchor=\"middle\" x=\"11.5\" y=\"-70.8\" font-family=\"Times,serif\" font-size=\"14.00\">b</text>\n<polyline fill=\"none\" stroke=\"black\" points=\"23,-56.5 23,-92.5 \"/>\n<text text-anchor=\"middle\" x=\"69\" y=\"-70.8\" font-family=\"Times,serif\" font-size=\"14.00\">data &#45;17.9900</text>\n<polyline fill=\"none\" stroke=\"black\" points=\"115,-56.5 115,-92.5 \"/>\n<text text-anchor=\"middle\" x=\"161.5\" y=\"-70.8\" font-family=\"Times,serif\" font-size=\"14.00\">grad &#45;20.0000</text>\n</g>\n<!-- 135603577086368&#45;&gt;135603577090688* -->\n<g id=\"edge5\" class=\"edge\">\n<title>135603577086368&#45;&gt;135603577090688*</title>\n<path fill=\"none\" stroke=\"black\" d=\"M208.09,-91.37C217.42,-92.9 226.38,-94.36 234.44,-95.68\"/>\n<polygon fill=\"black\" stroke=\"black\" points=\"234.04,-99.16 244.47,-97.32 235.17,-92.25 234.04,-99.16\"/>\n</g>\n</g>\n</svg>\n",
            "text/plain": [
              "<graphviz.graphs.Digraph at 0x7b54ab0ad960>"
            ]
          },
          "metadata": {},
          "execution_count": 32
        }
      ]
    },
    {
      "cell_type": "code",
      "source": [
        "# Now we will do a forward pass i.e. taking these values which are influenced by gradient and calculate the graph.\n",
        "l = c * b ; l.label = 'l'\n",
        "g = l + a ; g.label = 'g'\n",
        "x =g*k ; x.label = 'x'"
      ],
      "metadata": {
        "id": "fGvmLybaucYJ"
      },
      "execution_count": null,
      "outputs": []
    },
    {
      "cell_type": "code",
      "source": [
        "draw_dot(x)"
      ],
      "metadata": {
        "colab": {
          "base_uri": "https://localhost:8080/",
          "height": 247
        },
        "id": "n4Ar3xKRuyGB",
        "outputId": "a8f513f1-5b2b-4b5d-9849-0d38b23bb3d5"
      },
      "execution_count": null,
      "outputs": [
        {
          "output_type": "execute_result",
          "data": {
            "image/svg+xml": "<?xml version=\"1.0\" encoding=\"UTF-8\" standalone=\"no\"?>\n<!DOCTYPE svg PUBLIC \"-//W3C//DTD SVG 1.1//EN\"\n \"http://www.w3.org/Graphics/SVG/1.1/DTD/svg11.dtd\">\n<!-- Generated by graphviz version 2.43.0 (0)\n -->\n<!-- Title: %3 Pages: 1 -->\n<svg width=\"1179pt\" height=\"154pt\"\n viewBox=\"0.00 0.00 1179.00 154.00\" xmlns=\"http://www.w3.org/2000/svg\" xmlns:xlink=\"http://www.w3.org/1999/xlink\">\n<g id=\"graph0\" class=\"graph\" transform=\"scale(1 1) rotate(0) translate(4 150)\">\n<title>%3</title>\n<polygon fill=\"white\" stroke=\"transparent\" points=\"-4,4 -4,-150 1175,-150 1175,4 -4,4\"/>\n<!-- 135603577082912 -->\n<g id=\"node1\" class=\"node\">\n<title>135603577082912</title>\n<polygon fill=\"none\" stroke=\"black\" points=\"654,-54.5 654,-90.5 846,-90.5 846,-54.5 654,-54.5\"/>\n<text text-anchor=\"middle\" x=\"665.5\" y=\"-68.8\" font-family=\"Times,serif\" font-size=\"14.00\">g</text>\n<polyline fill=\"none\" stroke=\"black\" points=\"677,-54.5 677,-90.5 \"/>\n<text text-anchor=\"middle\" x=\"720.5\" y=\"-68.8\" font-family=\"Times,serif\" font-size=\"14.00\">data 52.8001</text>\n<polyline fill=\"none\" stroke=\"black\" points=\"764,-54.5 764,-90.5 \"/>\n<text text-anchor=\"middle\" x=\"805\" y=\"-68.8\" font-family=\"Times,serif\" font-size=\"14.00\">grad 0.0000</text>\n</g>\n<!-- 135603577090928* -->\n<g id=\"node8\" class=\"node\">\n<title>135603577090928*</title>\n<ellipse fill=\"none\" stroke=\"black\" cx=\"909\" cy=\"-99.5\" rx=\"27\" ry=\"18\"/>\n<text text-anchor=\"middle\" x=\"909\" y=\"-95.8\" font-family=\"Times,serif\" font-size=\"14.00\">*</text>\n</g>\n<!-- 135603577082912&#45;&gt;135603577090928* -->\n<g id=\"edge8\" class=\"edge\">\n<title>135603577082912&#45;&gt;135603577090928*</title>\n<path fill=\"none\" stroke=\"black\" d=\"M846.4,-88.91C855.69,-90.5 864.64,-92.04 872.71,-93.43\"/>\n<polygon fill=\"black\" stroke=\"black\" points=\"872.32,-96.91 882.76,-95.16 873.5,-90.02 872.32,-96.91\"/>\n</g>\n<!-- 135603577082912+ -->\n<g id=\"node2\" class=\"node\">\n<title>135603577082912+</title>\n<ellipse fill=\"none\" stroke=\"black\" cx=\"591\" cy=\"-72.5\" rx=\"27\" ry=\"18\"/>\n<text text-anchor=\"middle\" x=\"591\" y=\"-68.8\" font-family=\"Times,serif\" font-size=\"14.00\">+</text>\n</g>\n<!-- 135603577082912+&#45;&gt;135603577082912 -->\n<g id=\"edge1\" class=\"edge\">\n<title>135603577082912+&#45;&gt;135603577082912</title>\n<path fill=\"none\" stroke=\"black\" d=\"M618.28,-72.5C625.78,-72.5 634.44,-72.5 643.67,-72.5\"/>\n<polygon fill=\"black\" stroke=\"black\" points=\"643.87,-76 653.87,-72.5 643.87,-69 643.87,-76\"/>\n</g>\n<!-- 135603577086512 -->\n<g id=\"node3\" class=\"node\">\n<title>135603577086512</title>\n<polygon fill=\"none\" stroke=\"black\" points=\"334,-82.5 334,-118.5 528,-118.5 528,-82.5 334,-82.5\"/>\n<text text-anchor=\"middle\" x=\"345.5\" y=\"-96.8\" font-family=\"Times,serif\" font-size=\"14.00\">a</text>\n<polyline fill=\"none\" stroke=\"black\" points=\"357,-82.5 357,-118.5 \"/>\n<text text-anchor=\"middle\" x=\"399.5\" y=\"-96.8\" font-family=\"Times,serif\" font-size=\"14.00\">data &#45;0.9900</text>\n<polyline fill=\"none\" stroke=\"black\" points=\"442,-82.5 442,-118.5 \"/>\n<text text-anchor=\"middle\" x=\"485\" y=\"-96.8\" font-family=\"Times,serif\" font-size=\"14.00\">grad &#45;4.0000</text>\n</g>\n<!-- 135603577086512&#45;&gt;135603577082912+ -->\n<g id=\"edge7\" class=\"edge\">\n<title>135603577086512&#45;&gt;135603577082912+</title>\n<path fill=\"none\" stroke=\"black\" d=\"M528.01,-83.49C537.35,-81.83 546.37,-80.23 554.49,-78.79\"/>\n<polygon fill=\"black\" stroke=\"black\" points=\"555.37,-82.19 564.6,-77 554.15,-75.3 555.37,-82.19\"/>\n</g>\n<!-- 135603577092752 -->\n<g id=\"node4\" class=\"node\">\n<title>135603577092752</title>\n<polygon fill=\"none\" stroke=\"black\" points=\"654,-109.5 654,-145.5 846,-145.5 846,-109.5 654,-109.5\"/>\n<text text-anchor=\"middle\" x=\"665.5\" y=\"-123.8\" font-family=\"Times,serif\" font-size=\"14.00\">k</text>\n<polyline fill=\"none\" stroke=\"black\" points=\"677,-109.5 677,-145.5 \"/>\n<text text-anchor=\"middle\" x=\"717\" y=\"-123.8\" font-family=\"Times,serif\" font-size=\"14.00\">data 9.0100</text>\n<polyline fill=\"none\" stroke=\"black\" points=\"757,-109.5 757,-145.5 \"/>\n<text text-anchor=\"middle\" x=\"801.5\" y=\"-123.8\" font-family=\"Times,serif\" font-size=\"14.00\">grad 13.0000</text>\n</g>\n<!-- 135603577092752&#45;&gt;135603577090928* -->\n<g id=\"edge9\" class=\"edge\">\n<title>135603577092752&#45;&gt;135603577090928*</title>\n<path fill=\"none\" stroke=\"black\" d=\"M846.4,-110.49C855.69,-108.83 864.64,-107.23 872.71,-105.79\"/>\n<polygon fill=\"black\" stroke=\"black\" points=\"873.53,-109.2 882.76,-104 872.31,-102.31 873.53,-109.2\"/>\n</g>\n<!-- 135603577085072 -->\n<g id=\"node5\" class=\"node\">\n<title>135603577085072</title>\n<polygon fill=\"none\" stroke=\"black\" points=\"7,-55.5 7,-91.5 201,-91.5 201,-55.5 7,-55.5\"/>\n<text text-anchor=\"middle\" x=\"18.5\" y=\"-69.8\" font-family=\"Times,serif\" font-size=\"14.00\">c</text>\n<polyline fill=\"none\" stroke=\"black\" points=\"30,-55.5 30,-91.5 \"/>\n<text text-anchor=\"middle\" x=\"72.5\" y=\"-69.8\" font-family=\"Times,serif\" font-size=\"14.00\">data &#45;2.9900</text>\n<polyline fill=\"none\" stroke=\"black\" points=\"115,-55.5 115,-91.5 \"/>\n<text text-anchor=\"middle\" x=\"158\" y=\"-69.8\" font-family=\"Times,serif\" font-size=\"14.00\">grad &#45;8.0000</text>\n</g>\n<!-- 135603577091456* -->\n<g id=\"node10\" class=\"node\">\n<title>135603577091456*</title>\n<ellipse fill=\"none\" stroke=\"black\" cx=\"271\" cy=\"-45.5\" rx=\"27\" ry=\"18\"/>\n<text text-anchor=\"middle\" x=\"271\" y=\"-41.8\" font-family=\"Times,serif\" font-size=\"14.00\">*</text>\n</g>\n<!-- 135603577085072&#45;&gt;135603577091456* -->\n<g id=\"edge5\" class=\"edge\">\n<title>135603577085072&#45;&gt;135603577091456*</title>\n<path fill=\"none\" stroke=\"black\" d=\"M201.46,-57.13C213.29,-55.12 224.72,-53.18 234.75,-51.48\"/>\n<polygon fill=\"black\" stroke=\"black\" points=\"235.38,-54.93 244.65,-49.8 234.21,-48.02 235.38,-54.93\"/>\n</g>\n<!-- 135603577085648 -->\n<g id=\"node6\" class=\"node\">\n<title>135603577085648</title>\n<polygon fill=\"none\" stroke=\"black\" points=\"0,-0.5 0,-36.5 208,-36.5 208,-0.5 0,-0.5\"/>\n<text text-anchor=\"middle\" x=\"11.5\" y=\"-14.8\" font-family=\"Times,serif\" font-size=\"14.00\">b</text>\n<polyline fill=\"none\" stroke=\"black\" points=\"23,-0.5 23,-36.5 \"/>\n<text text-anchor=\"middle\" x=\"69\" y=\"-14.8\" font-family=\"Times,serif\" font-size=\"14.00\">data &#45;17.9900</text>\n<polyline fill=\"none\" stroke=\"black\" points=\"115,-0.5 115,-36.5 \"/>\n<text text-anchor=\"middle\" x=\"161.5\" y=\"-14.8\" font-family=\"Times,serif\" font-size=\"14.00\">grad &#45;20.0000</text>\n</g>\n<!-- 135603577085648&#45;&gt;135603577091456* -->\n<g id=\"edge6\" class=\"edge\">\n<title>135603577085648&#45;&gt;135603577091456*</title>\n<path fill=\"none\" stroke=\"black\" d=\"M208.09,-35.37C217.42,-36.9 226.38,-38.36 234.44,-39.68\"/>\n<polygon fill=\"black\" stroke=\"black\" points=\"234.04,-43.16 244.47,-41.32 235.17,-36.25 234.04,-43.16\"/>\n</g>\n<!-- 135603577090928 -->\n<g id=\"node7\" class=\"node\">\n<title>135603577090928</title>\n<polygon fill=\"none\" stroke=\"black\" points=\"972,-81.5 972,-117.5 1171,-117.5 1171,-81.5 972,-81.5\"/>\n<text text-anchor=\"middle\" x=\"983.5\" y=\"-95.8\" font-family=\"Times,serif\" font-size=\"14.00\">x</text>\n<polyline fill=\"none\" stroke=\"black\" points=\"995,-81.5 995,-117.5 \"/>\n<text text-anchor=\"middle\" x=\"1042\" y=\"-95.8\" font-family=\"Times,serif\" font-size=\"14.00\">data 475.7289</text>\n<polyline fill=\"none\" stroke=\"black\" points=\"1089,-81.5 1089,-117.5 \"/>\n<text text-anchor=\"middle\" x=\"1130\" y=\"-95.8\" font-family=\"Times,serif\" font-size=\"14.00\">grad 0.0000</text>\n</g>\n<!-- 135603577090928*&#45;&gt;135603577090928 -->\n<g id=\"edge2\" class=\"edge\">\n<title>135603577090928*&#45;&gt;135603577090928</title>\n<path fill=\"none\" stroke=\"black\" d=\"M936.14,-99.5C943.65,-99.5 952.33,-99.5 961.6,-99.5\"/>\n<polygon fill=\"black\" stroke=\"black\" points=\"961.86,-103 971.86,-99.5 961.86,-96 961.86,-103\"/>\n</g>\n<!-- 135603577091456 -->\n<g id=\"node9\" class=\"node\">\n<title>135603577091456</title>\n<polygon fill=\"none\" stroke=\"black\" points=\"336.5,-27.5 336.5,-63.5 525.5,-63.5 525.5,-27.5 336.5,-27.5\"/>\n<text text-anchor=\"middle\" x=\"346.5\" y=\"-41.8\" font-family=\"Times,serif\" font-size=\"14.00\">l</text>\n<polyline fill=\"none\" stroke=\"black\" points=\"356.5,-27.5 356.5,-63.5 \"/>\n<text text-anchor=\"middle\" x=\"400\" y=\"-41.8\" font-family=\"Times,serif\" font-size=\"14.00\">data 53.7901</text>\n<polyline fill=\"none\" stroke=\"black\" points=\"443.5,-27.5 443.5,-63.5 \"/>\n<text text-anchor=\"middle\" x=\"484.5\" y=\"-41.8\" font-family=\"Times,serif\" font-size=\"14.00\">grad 0.0000</text>\n</g>\n<!-- 135603577091456&#45;&gt;135603577082912+ -->\n<g id=\"edge4\" class=\"edge\">\n<title>135603577091456&#45;&gt;135603577082912+</title>\n<path fill=\"none\" stroke=\"black\" d=\"M525.74,-61.52C535.85,-63.25 545.62,-64.92 554.37,-66.41\"/>\n<polygon fill=\"black\" stroke=\"black\" points=\"554.04,-69.9 564.48,-68.14 555.22,-63 554.04,-69.9\"/>\n</g>\n<!-- 135603577091456*&#45;&gt;135603577091456 -->\n<g id=\"edge3\" class=\"edge\">\n<title>135603577091456*&#45;&gt;135603577091456</title>\n<path fill=\"none\" stroke=\"black\" d=\"M298.09,-45.5C306.33,-45.5 315.98,-45.5 326.26,-45.5\"/>\n<polygon fill=\"black\" stroke=\"black\" points=\"326.28,-49 336.28,-45.5 326.28,-42 326.28,-49\"/>\n</g>\n</g>\n</svg>\n",
            "text/plain": [
              "<graphviz.graphs.Digraph at 0x7b54ab0af700>"
            ]
          },
          "metadata": {},
          "execution_count": 39
        }
      ]
    },
    {
      "cell_type": "code",
      "source": [
        "# we can see that the x has moved into positive direction (significant move we don't want that, we can lower the bais in this case)\n",
        "# This completes the example and next we will try to do forward and backward pass using neuron."
      ],
      "metadata": {
        "id": "j7U13Sk7u06E"
      },
      "execution_count": null,
      "outputs": []
    },
    {
      "cell_type": "markdown",
      "source": [
        "# Forward and Backward Pass in an Neuron"
      ],
      "metadata": {
        "id": "ybRfcdEJz8t7"
      }
    },
    {
      "cell_type": "code",
      "source": [
        "#inputs x1, x2\n",
        "x1 = Value(2.0,label='x1')\n",
        "x2 = Value(0.0,label='x2')\n",
        "# weights w1,w2\n",
        "w1 = Value(-3.0,label='w1')\n",
        "w2 = Value(1.0, label='w2')\n",
        "#bias of neuron\n",
        "b = Value(6.7, label='b')\n",
        "#Multiplying inputs and weights\n",
        "x1w1 = x1*w1; x1w1.label='x1w1'\n",
        "x2w2 = x2*w2; x2w2.label='x2w2'\n",
        "#Adding all up\n",
        "x1w1x2w2 = x1w1 + x2w2; x1w1x2w2.label='x1w1x2w2';\n",
        "#Introducing bias\n",
        "n = x1w1x2w2 + b ; n.label='n'"
      ],
      "metadata": {
        "id": "SdGB7tJc0CMT"
      },
      "execution_count": null,
      "outputs": []
    },
    {
      "cell_type": "code",
      "source": [
        "draw_dot(n)"
      ],
      "metadata": {
        "colab": {
          "base_uri": "https://localhost:8080/",
          "height": 321
        },
        "id": "HUg0XJAu1NsU",
        "outputId": "17adee33-5491-4bc0-97f0-aef843ee30b0"
      },
      "execution_count": null,
      "outputs": [
        {
          "output_type": "execute_result",
          "data": {
            "image/svg+xml": "<?xml version=\"1.0\" encoding=\"UTF-8\" standalone=\"no\"?>\n<!DOCTYPE svg PUBLIC \"-//W3C//DTD SVG 1.1//EN\"\n \"http://www.w3.org/Graphics/SVG/1.1/DTD/svg11.dtd\">\n<!-- Generated by graphviz version 2.43.0 (0)\n -->\n<!-- Title: %3 Pages: 1 -->\n<svg width=\"1229pt\" height=\"210pt\"\n viewBox=\"0.00 0.00 1229.00 210.00\" xmlns=\"http://www.w3.org/2000/svg\" xmlns:xlink=\"http://www.w3.org/1999/xlink\">\n<g id=\"graph0\" class=\"graph\" transform=\"scale(1 1) rotate(0) translate(4 206)\">\n<title>%3</title>\n<polygon fill=\"white\" stroke=\"transparent\" points=\"-4,4 -4,-206 1225,-206 1225,4 -4,4\"/>\n<!-- 138138264581120 -->\n<g id=\"node1\" class=\"node\">\n<title>138138264581120</title>\n<polygon fill=\"none\" stroke=\"black\" points=\"328.5,-55.5 328.5,-91.5 537.5,-91.5 537.5,-55.5 328.5,-55.5\"/>\n<text text-anchor=\"middle\" x=\"352\" y=\"-69.8\" font-family=\"Times,serif\" font-size=\"14.00\">x2w2</text>\n<polyline fill=\"none\" stroke=\"black\" points=\"375.5,-55.5 375.5,-91.5 \"/>\n<text text-anchor=\"middle\" x=\"415.5\" y=\"-69.8\" font-family=\"Times,serif\" font-size=\"14.00\">data 0.0000</text>\n<polyline fill=\"none\" stroke=\"black\" points=\"455.5,-55.5 455.5,-91.5 \"/>\n<text text-anchor=\"middle\" x=\"496.5\" y=\"-69.8\" font-family=\"Times,serif\" font-size=\"14.00\">grad 0.0000</text>\n</g>\n<!-- 138138264580976+ -->\n<g id=\"node11\" class=\"node\">\n<title>138138264580976+</title>\n<ellipse fill=\"none\" stroke=\"black\" cx=\"603\" cy=\"-100.5\" rx=\"27\" ry=\"18\"/>\n<text text-anchor=\"middle\" x=\"603\" y=\"-96.8\" font-family=\"Times,serif\" font-size=\"14.00\">+</text>\n</g>\n<!-- 138138264581120&#45;&gt;138138264580976+ -->\n<g id=\"edge12\" class=\"edge\">\n<title>138138264581120&#45;&gt;138138264580976+</title>\n<path fill=\"none\" stroke=\"black\" d=\"M537.53,-90.14C547.8,-91.79 557.66,-93.37 566.45,-94.79\"/>\n<polygon fill=\"black\" stroke=\"black\" points=\"566.16,-98.28 576.59,-96.42 567.27,-91.37 566.16,-98.28\"/>\n</g>\n<!-- 138138264581120* -->\n<g id=\"node2\" class=\"node\">\n<title>138138264581120*</title>\n<ellipse fill=\"none\" stroke=\"black\" cx=\"263\" cy=\"-73.5\" rx=\"27\" ry=\"18\"/>\n<text text-anchor=\"middle\" x=\"263\" y=\"-69.8\" font-family=\"Times,serif\" font-size=\"14.00\">*</text>\n</g>\n<!-- 138138264581120*&#45;&gt;138138264581120 -->\n<g id=\"edge1\" class=\"edge\">\n<title>138138264581120*&#45;&gt;138138264581120</title>\n<path fill=\"none\" stroke=\"black\" d=\"M290.25,-73.5C298.43,-73.5 308.03,-73.5 318.31,-73.5\"/>\n<polygon fill=\"black\" stroke=\"black\" points=\"318.35,-77 328.35,-73.5 318.35,-70 318.35,-77\"/>\n</g>\n<!-- 138138264577616 -->\n<g id=\"node3\" class=\"node\">\n<title>138138264577616</title>\n<polygon fill=\"none\" stroke=\"black\" points=\"2.5,-55.5 2.5,-91.5 197.5,-91.5 197.5,-55.5 2.5,-55.5\"/>\n<text text-anchor=\"middle\" x=\"19\" y=\"-69.8\" font-family=\"Times,serif\" font-size=\"14.00\">w2</text>\n<polyline fill=\"none\" stroke=\"black\" points=\"35.5,-55.5 35.5,-91.5 \"/>\n<text text-anchor=\"middle\" x=\"75.5\" y=\"-69.8\" font-family=\"Times,serif\" font-size=\"14.00\">data 1.0000</text>\n<polyline fill=\"none\" stroke=\"black\" points=\"115.5,-55.5 115.5,-91.5 \"/>\n<text text-anchor=\"middle\" x=\"156.5\" y=\"-69.8\" font-family=\"Times,serif\" font-size=\"14.00\">grad 0.0000</text>\n</g>\n<!-- 138138264577616&#45;&gt;138138264581120* -->\n<g id=\"edge10\" class=\"edge\">\n<title>138138264577616&#45;&gt;138138264581120*</title>\n<path fill=\"none\" stroke=\"black\" d=\"M197.91,-73.5C207.65,-73.5 217.05,-73.5 225.52,-73.5\"/>\n<polygon fill=\"black\" stroke=\"black\" points=\"225.7,-77 235.7,-73.5 225.7,-70 225.7,-77\"/>\n</g>\n<!-- 138138264583808 -->\n<g id=\"node4\" class=\"node\">\n<title>138138264583808</title>\n<polygon fill=\"none\" stroke=\"black\" points=\"4,-165.5 4,-201.5 196,-201.5 196,-165.5 4,-165.5\"/>\n<text text-anchor=\"middle\" x=\"19\" y=\"-179.8\" font-family=\"Times,serif\" font-size=\"14.00\">x1</text>\n<polyline fill=\"none\" stroke=\"black\" points=\"34,-165.5 34,-201.5 \"/>\n<text text-anchor=\"middle\" x=\"74\" y=\"-179.8\" font-family=\"Times,serif\" font-size=\"14.00\">data 2.0000</text>\n<polyline fill=\"none\" stroke=\"black\" points=\"114,-165.5 114,-201.5 \"/>\n<text text-anchor=\"middle\" x=\"155\" y=\"-179.8\" font-family=\"Times,serif\" font-size=\"14.00\">grad 0.0000</text>\n</g>\n<!-- 138138264580736* -->\n<g id=\"node6\" class=\"node\">\n<title>138138264580736*</title>\n<ellipse fill=\"none\" stroke=\"black\" cx=\"263\" cy=\"-128.5\" rx=\"27\" ry=\"18\"/>\n<text text-anchor=\"middle\" x=\"263\" y=\"-124.8\" font-family=\"Times,serif\" font-size=\"14.00\">*</text>\n</g>\n<!-- 138138264583808&#45;&gt;138138264580736* -->\n<g id=\"edge8\" class=\"edge\">\n<title>138138264583808&#45;&gt;138138264580736*</title>\n<path fill=\"none\" stroke=\"black\" d=\"M172.53,-165.44C181.84,-162.67 191.2,-159.67 200,-156.5 210.53,-152.71 221.75,-147.9 231.72,-143.33\"/>\n<polygon fill=\"black\" stroke=\"black\" points=\"233.25,-146.48 240.82,-139.07 230.28,-140.14 233.25,-146.48\"/>\n</g>\n<!-- 138138264580736 -->\n<g id=\"node5\" class=\"node\">\n<title>138138264580736</title>\n<polygon fill=\"none\" stroke=\"black\" points=\"326,-110.5 326,-146.5 540,-146.5 540,-110.5 326,-110.5\"/>\n<text text-anchor=\"middle\" x=\"349.5\" y=\"-124.8\" font-family=\"Times,serif\" font-size=\"14.00\">x1w1</text>\n<polyline fill=\"none\" stroke=\"black\" points=\"373,-110.5 373,-146.5 \"/>\n<text text-anchor=\"middle\" x=\"415.5\" y=\"-124.8\" font-family=\"Times,serif\" font-size=\"14.00\">data &#45;6.0000</text>\n<polyline fill=\"none\" stroke=\"black\" points=\"458,-110.5 458,-146.5 \"/>\n<text text-anchor=\"middle\" x=\"499\" y=\"-124.8\" font-family=\"Times,serif\" font-size=\"14.00\">grad 0.0000</text>\n</g>\n<!-- 138138264580736&#45;&gt;138138264580976+ -->\n<g id=\"edge11\" class=\"edge\">\n<title>138138264580736&#45;&gt;138138264580976+</title>\n<path fill=\"none\" stroke=\"black\" d=\"M540.4,-110.77C549.72,-109.21 558.65,-107.72 566.68,-106.39\"/>\n<polygon fill=\"black\" stroke=\"black\" points=\"567.38,-109.82 576.66,-104.72 566.22,-102.91 567.38,-109.82\"/>\n</g>\n<!-- 138138264580736*&#45;&gt;138138264580736 -->\n<g id=\"edge2\" class=\"edge\">\n<title>138138264580736*&#45;&gt;138138264580736</title>\n<path fill=\"none\" stroke=\"black\" d=\"M290.25,-128.5C297.7,-128.5 306.34,-128.5 315.59,-128.5\"/>\n<polygon fill=\"black\" stroke=\"black\" points=\"315.84,-132 325.84,-128.5 315.84,-125 315.84,-132\"/>\n</g>\n<!-- 138138264575648 -->\n<g id=\"node7\" class=\"node\">\n<title>138138264575648</title>\n<polygon fill=\"none\" stroke=\"black\" points=\"695.5,-137.5 695.5,-173.5 880.5,-173.5 880.5,-137.5 695.5,-137.5\"/>\n<text text-anchor=\"middle\" x=\"707\" y=\"-151.8\" font-family=\"Times,serif\" font-size=\"14.00\">b</text>\n<polyline fill=\"none\" stroke=\"black\" points=\"718.5,-137.5 718.5,-173.5 \"/>\n<text text-anchor=\"middle\" x=\"758.5\" y=\"-151.8\" font-family=\"Times,serif\" font-size=\"14.00\">data 6.7000</text>\n<polyline fill=\"none\" stroke=\"black\" points=\"798.5,-137.5 798.5,-173.5 \"/>\n<text text-anchor=\"middle\" x=\"839.5\" y=\"-151.8\" font-family=\"Times,serif\" font-size=\"14.00\">grad 0.0000</text>\n</g>\n<!-- 138138264581504+ -->\n<g id=\"node13\" class=\"node\">\n<title>138138264581504+</title>\n<ellipse fill=\"none\" stroke=\"black\" cx=\"973\" cy=\"-127.5\" rx=\"27\" ry=\"18\"/>\n<text text-anchor=\"middle\" x=\"973\" y=\"-123.8\" font-family=\"Times,serif\" font-size=\"14.00\">+</text>\n</g>\n<!-- 138138264575648&#45;&gt;138138264581504+ -->\n<g id=\"edge7\" class=\"edge\">\n<title>138138264575648&#45;&gt;138138264581504+</title>\n<path fill=\"none\" stroke=\"black\" d=\"M880.77,-141.46C900.52,-138.44 920.26,-135.42 936.29,-132.96\"/>\n<polygon fill=\"black\" stroke=\"black\" points=\"936.9,-136.41 946.26,-131.44 935.85,-129.49 936.9,-136.41\"/>\n</g>\n<!-- 138138264571616 -->\n<g id=\"node8\" class=\"node\">\n<title>138138264571616</title>\n<polygon fill=\"none\" stroke=\"black\" points=\"4,-0.5 4,-36.5 196,-36.5 196,-0.5 4,-0.5\"/>\n<text text-anchor=\"middle\" x=\"19\" y=\"-14.8\" font-family=\"Times,serif\" font-size=\"14.00\">x2</text>\n<polyline fill=\"none\" stroke=\"black\" points=\"34,-0.5 34,-36.5 \"/>\n<text text-anchor=\"middle\" x=\"74\" y=\"-14.8\" font-family=\"Times,serif\" font-size=\"14.00\">data 0.0000</text>\n<polyline fill=\"none\" stroke=\"black\" points=\"114,-0.5 114,-36.5 \"/>\n<text text-anchor=\"middle\" x=\"155\" y=\"-14.8\" font-family=\"Times,serif\" font-size=\"14.00\">grad 0.0000</text>\n</g>\n<!-- 138138264571616&#45;&gt;138138264581120* -->\n<g id=\"edge9\" class=\"edge\">\n<title>138138264571616&#45;&gt;138138264581120*</title>\n<path fill=\"none\" stroke=\"black\" d=\"M169.28,-36.5C179.65,-39.61 190.16,-42.98 200,-46.5 210.28,-50.17 221.28,-54.74 231.11,-59.07\"/>\n<polygon fill=\"black\" stroke=\"black\" points=\"229.93,-62.37 240.48,-63.27 232.79,-55.99 229.93,-62.37\"/>\n</g>\n<!-- 138138264583520 -->\n<g id=\"node9\" class=\"node\">\n<title>138138264583520</title>\n<polygon fill=\"none\" stroke=\"black\" points=\"0,-110.5 0,-146.5 200,-146.5 200,-110.5 0,-110.5\"/>\n<text text-anchor=\"middle\" x=\"16.5\" y=\"-124.8\" font-family=\"Times,serif\" font-size=\"14.00\">w1</text>\n<polyline fill=\"none\" stroke=\"black\" points=\"33,-110.5 33,-146.5 \"/>\n<text text-anchor=\"middle\" x=\"75.5\" y=\"-124.8\" font-family=\"Times,serif\" font-size=\"14.00\">data &#45;3.0000</text>\n<polyline fill=\"none\" stroke=\"black\" points=\"118,-110.5 118,-146.5 \"/>\n<text text-anchor=\"middle\" x=\"159\" y=\"-124.8\" font-family=\"Times,serif\" font-size=\"14.00\">grad 0.0000</text>\n</g>\n<!-- 138138264583520&#45;&gt;138138264580736* -->\n<g id=\"edge5\" class=\"edge\">\n<title>138138264583520&#45;&gt;138138264580736*</title>\n<path fill=\"none\" stroke=\"black\" d=\"M200.21,-128.5C209.2,-128.5 217.86,-128.5 225.7,-128.5\"/>\n<polygon fill=\"black\" stroke=\"black\" points=\"225.85,-132 235.85,-128.5 225.85,-125 225.85,-132\"/>\n</g>\n<!-- 138138264580976 -->\n<g id=\"node10\" class=\"node\">\n<title>138138264580976</title>\n<polygon fill=\"none\" stroke=\"black\" points=\"666,-82.5 666,-118.5 910,-118.5 910,-82.5 666,-82.5\"/>\n<text text-anchor=\"middle\" x=\"704.5\" y=\"-96.8\" font-family=\"Times,serif\" font-size=\"14.00\">x1w1x2w2</text>\n<polyline fill=\"none\" stroke=\"black\" points=\"743,-82.5 743,-118.5 \"/>\n<text text-anchor=\"middle\" x=\"785.5\" y=\"-96.8\" font-family=\"Times,serif\" font-size=\"14.00\">data &#45;6.0000</text>\n<polyline fill=\"none\" stroke=\"black\" points=\"828,-82.5 828,-118.5 \"/>\n<text text-anchor=\"middle\" x=\"869\" y=\"-96.8\" font-family=\"Times,serif\" font-size=\"14.00\">grad 0.0000</text>\n</g>\n<!-- 138138264580976&#45;&gt;138138264581504+ -->\n<g id=\"edge6\" class=\"edge\">\n<title>138138264580976&#45;&gt;138138264581504+</title>\n<path fill=\"none\" stroke=\"black\" d=\"M910.04,-118.36C919.47,-119.75 928.43,-121.07 936.46,-122.26\"/>\n<polygon fill=\"black\" stroke=\"black\" points=\"936.03,-125.73 946.43,-123.73 937.05,-118.81 936.03,-125.73\"/>\n</g>\n<!-- 138138264580976+&#45;&gt;138138264580976 -->\n<g id=\"edge3\" class=\"edge\">\n<title>138138264580976+&#45;&gt;138138264580976</title>\n<path fill=\"none\" stroke=\"black\" d=\"M630.22,-100.5C637.7,-100.5 646.4,-100.5 655.79,-100.5\"/>\n<polygon fill=\"black\" stroke=\"black\" points=\"655.8,-104 665.8,-100.5 655.8,-97 655.8,-104\"/>\n</g>\n<!-- 138138264581504 -->\n<g id=\"node12\" class=\"node\">\n<title>138138264581504</title>\n<polygon fill=\"none\" stroke=\"black\" points=\"1036,-109.5 1036,-145.5 1221,-145.5 1221,-109.5 1036,-109.5\"/>\n<text text-anchor=\"middle\" x=\"1047.5\" y=\"-123.8\" font-family=\"Times,serif\" font-size=\"14.00\">n</text>\n<polyline fill=\"none\" stroke=\"black\" points=\"1059,-109.5 1059,-145.5 \"/>\n<text text-anchor=\"middle\" x=\"1099\" y=\"-123.8\" font-family=\"Times,serif\" font-size=\"14.00\">data 0.7000</text>\n<polyline fill=\"none\" stroke=\"black\" points=\"1139,-109.5 1139,-145.5 \"/>\n<text text-anchor=\"middle\" x=\"1180\" y=\"-123.8\" font-family=\"Times,serif\" font-size=\"14.00\">grad 0.0000</text>\n</g>\n<!-- 138138264581504+&#45;&gt;138138264581504 -->\n<g id=\"edge4\" class=\"edge\">\n<title>138138264581504+&#45;&gt;138138264581504</title>\n<path fill=\"none\" stroke=\"black\" d=\"M1000.04,-127.5C1007.58,-127.5 1016.3,-127.5 1025.57,-127.5\"/>\n<polygon fill=\"black\" stroke=\"black\" points=\"1025.81,-131 1035.81,-127.5 1025.81,-124 1025.81,-131\"/>\n</g>\n</g>\n</svg>\n",
            "text/plain": [
              "<graphviz.graphs.Digraph at 0x7da2d230b550>"
            ]
          },
          "metadata": {},
          "execution_count": 5
        }
      ]
    },
    {
      "cell_type": "code",
      "source": [
        "# This represents tanh function\n",
        "# This is called the squashing function\n",
        "# The main goal of squashing function is to squash the coming inputs between a certain range in case of tanh it is between -1 and 1\\\n",
        "# Which basically means what ever you give to tanh between -infinity to +infinity we will always get result between -1 and 1\n",
        "plt.plot(np.arange(-5,5,0.2),np.tanh(np.arange(-5,5,0.2)));plt.grid()"
      ],
      "metadata": {
        "id": "-aaWL7-C1WIq",
        "colab": {
          "base_uri": "https://localhost:8080/",
          "height": 430
        },
        "outputId": "9c8ca69d-f026-47a8-c098-74c3de441fe8"
      },
      "execution_count": null,
      "outputs": [
        {
          "output_type": "display_data",
          "data": {
            "text/plain": [
              "<Figure size 640x480 with 1 Axes>"
            ],
            "image/png": "[encoded data removed]"
          },
          "metadata": {}
        }
      ]
    },
    {
      "cell_type": "code",
      "source": [
        "# Till yet we had the summation of all weights and input with bias added\n",
        "# For output we need to squash this result and for this we have to pass this through an activation function in our case we\n",
        "# Are choosing tanh as the activation function, that means we will need to implement tanh in our Vaule Class."
      ],
      "metadata": {
        "id": "21ZXZHcha82b"
      },
      "execution_count": null,
      "outputs": []
    },
    {
      "cell_type": "markdown",
      "source": [
        "# Adding Tanh to Value Class"
      ],
      "metadata": {
        "id": "e4Ct0NAU63YT"
      }
    },
    {
      "cell_type": "code",
      "source": [
        "# tanh ( x ) = sinh ( x ) cosh ( x ) = e 2 x − 1 e 2 x + 1\n",
        "# let's import math to do exponential\n",
        "class Value:\n",
        "  def __init__(self, data, _children=(), _op='',label=''):\n",
        "    self.data = data\n",
        "    self.grad = 0\n",
        "    self._prev = set(_children)\n",
        "    self.label = label\n",
        "    self._op = _op\n",
        "\n",
        "  def __repr__(self):\n",
        "    return f'Value(data={self.data})'\n",
        "\n",
        "  def __add__(self,other):\n",
        "    out = Value(self.data + other.data,(self,other),'+')\n",
        "    return out\n",
        "\n",
        "  def tanh(self):\n",
        "    x = self.data\n",
        "    t = (math.exp(2*x) -1)/(math.exp(2*x)+ 1)\n",
        "    out = Value(t,(self,),'tanh')\n",
        "    return out\n",
        "\n",
        "  def __mul__(self,other):\n",
        "    out = Value(self.data * other.data,(self,other),'*')\n",
        "    return out\n"
      ],
      "metadata": {
        "id": "ZzZ_xZXI68UU"
      },
      "execution_count": null,
      "outputs": []
    },
    {
      "cell_type": "code",
      "source": [
        "# let's compute the neural calcultaions again this time with tanh\n",
        "#inputs x1, x2\n",
        "x1 = Value(2.0,label='x1')\n",
        "x2 = Value(0.0,label='x2')\n",
        "# weights w1,w2\n",
        "w1 = Value(-3.0,label='w1')\n",
        "w2 = Value(1.0, label='w2')\n",
        "#bias of neuron\n",
        "b = Value(6.8813735870195342, label='b')\n",
        "#Multiplying inputs and weights\n",
        "x1w1 = x1*w1; x1w1.label='x1w1'\n",
        "x2w2 = x2*w2; x2w2.label='x2w2'\n",
        "#Adding all up\n",
        "x1w1x2w2 = x1w1 + x2w2; x1w1x2w2.label='x1w1x2w2';\n",
        "#Introducing bias\n",
        "n = x1w1x2w2 + b ; n.label='n'\n",
        "o = n.tanh() ; o.label = 'o'"
      ],
      "metadata": {
        "id": "kuh2N-U78Ix3"
      },
      "execution_count": null,
      "outputs": []
    },
    {
      "cell_type": "code",
      "source": [
        "draw_dot(o)"
      ],
      "metadata": {
        "colab": {
          "base_uri": "https://localhost:8080/",
          "height": 321
        },
        "id": "wDWUlFMy8Xcu",
        "outputId": "48097924-b88a-4001-efd7-b8706d56f184"
      },
      "execution_count": null,
      "outputs": [
        {
          "output_type": "execute_result",
          "data": {
            "image/svg+xml": "<?xml version=\"1.0\" encoding=\"UTF-8\" standalone=\"no\"?>\n<!DOCTYPE svg PUBLIC \"-//W3C//DTD SVG 1.1//EN\"\n \"http://www.w3.org/Graphics/SVG/1.1/DTD/svg11.dtd\">\n<!-- Generated by graphviz version 2.43.0 (0)\n -->\n<!-- Title: %3 Pages: 1 -->\n<svg width=\"1540pt\" height=\"210pt\"\n viewBox=\"0.00 0.00 1540.00 210.00\" xmlns=\"http://www.w3.org/2000/svg\" xmlns:xlink=\"http://www.w3.org/1999/xlink\">\n<g id=\"graph0\" class=\"graph\" transform=\"scale(1 1) rotate(0) translate(4 206)\">\n<title>%3</title>\n<polygon fill=\"white\" stroke=\"transparent\" points=\"-4,4 -4,-206 1536,-206 1536,4 -4,4\"/>\n<!-- 137274626199120 -->\n<g id=\"node1\" class=\"node\">\n<title>137274626199120</title>\n<polygon fill=\"none\" stroke=\"black\" points=\"0,-165.5 0,-201.5 200,-201.5 200,-165.5 0,-165.5\"/>\n<text text-anchor=\"middle\" x=\"16.5\" y=\"-179.8\" font-family=\"Times,serif\" font-size=\"14.00\">w1</text>\n<polyline fill=\"none\" stroke=\"black\" points=\"33,-165.5 33,-201.5 \"/>\n<text text-anchor=\"middle\" x=\"75.5\" y=\"-179.8\" font-family=\"Times,serif\" font-size=\"14.00\">data &#45;3.0000</text>\n<polyline fill=\"none\" stroke=\"black\" points=\"118,-165.5 118,-201.5 \"/>\n<text text-anchor=\"middle\" x=\"159\" y=\"-179.8\" font-family=\"Times,serif\" font-size=\"14.00\">grad 0.0000</text>\n</g>\n<!-- 137274626209536* -->\n<g id=\"node8\" class=\"node\">\n<title>137274626209536*</title>\n<ellipse fill=\"none\" stroke=\"black\" cx=\"263\" cy=\"-128.5\" rx=\"27\" ry=\"18\"/>\n<text text-anchor=\"middle\" x=\"263\" y=\"-124.8\" font-family=\"Times,serif\" font-size=\"14.00\">*</text>\n</g>\n<!-- 137274626199120&#45;&gt;137274626209536* -->\n<g id=\"edge9\" class=\"edge\">\n<title>137274626199120&#45;&gt;137274626209536*</title>\n<path fill=\"none\" stroke=\"black\" d=\"M172.53,-165.44C181.84,-162.67 191.2,-159.67 200,-156.5 210.53,-152.71 221.75,-147.9 231.72,-143.33\"/>\n<polygon fill=\"black\" stroke=\"black\" points=\"233.25,-146.48 240.82,-139.07 230.28,-140.14 233.25,-146.48\"/>\n</g>\n<!-- 137274626203776 -->\n<g id=\"node2\" class=\"node\">\n<title>137274626203776</title>\n<polygon fill=\"none\" stroke=\"black\" points=\"695.5,-27.5 695.5,-63.5 880.5,-63.5 880.5,-27.5 695.5,-27.5\"/>\n<text text-anchor=\"middle\" x=\"707\" y=\"-41.8\" font-family=\"Times,serif\" font-size=\"14.00\">b</text>\n<polyline fill=\"none\" stroke=\"black\" points=\"718.5,-27.5 718.5,-63.5 \"/>\n<text text-anchor=\"middle\" x=\"758.5\" y=\"-41.8\" font-family=\"Times,serif\" font-size=\"14.00\">data 6.8814</text>\n<polyline fill=\"none\" stroke=\"black\" points=\"798.5,-27.5 798.5,-63.5 \"/>\n<text text-anchor=\"middle\" x=\"839.5\" y=\"-41.8\" font-family=\"Times,serif\" font-size=\"14.00\">grad 0.0000</text>\n</g>\n<!-- 137274626205120+ -->\n<g id=\"node14\" class=\"node\">\n<title>137274626205120+</title>\n<ellipse fill=\"none\" stroke=\"black\" cx=\"973\" cy=\"-72.5\" rx=\"27\" ry=\"18\"/>\n<text text-anchor=\"middle\" x=\"973\" y=\"-68.8\" font-family=\"Times,serif\" font-size=\"14.00\">+</text>\n</g>\n<!-- 137274626203776&#45;&gt;137274626205120+ -->\n<g id=\"edge10\" class=\"edge\">\n<title>137274626203776&#45;&gt;137274626205120+</title>\n<path fill=\"none\" stroke=\"black\" d=\"M880.77,-59.04C900.52,-61.95 920.26,-64.87 936.29,-67.23\"/>\n<polygon fill=\"black\" stroke=\"black\" points=\"935.86,-70.71 946.26,-68.7 936.88,-63.78 935.86,-70.71\"/>\n</g>\n<!-- 137274626207376 -->\n<g id=\"node3\" class=\"node\">\n<title>137274626207376</title>\n<polygon fill=\"none\" stroke=\"black\" points=\"4,-110.5 4,-146.5 196,-146.5 196,-110.5 4,-110.5\"/>\n<text text-anchor=\"middle\" x=\"19\" y=\"-124.8\" font-family=\"Times,serif\" font-size=\"14.00\">x1</text>\n<polyline fill=\"none\" stroke=\"black\" points=\"34,-110.5 34,-146.5 \"/>\n<text text-anchor=\"middle\" x=\"74\" y=\"-124.8\" font-family=\"Times,serif\" font-size=\"14.00\">data 2.0000</text>\n<polyline fill=\"none\" stroke=\"black\" points=\"114,-110.5 114,-146.5 \"/>\n<text text-anchor=\"middle\" x=\"155\" y=\"-124.8\" font-family=\"Times,serif\" font-size=\"14.00\">grad 0.0000</text>\n</g>\n<!-- 137274626207376&#45;&gt;137274626209536* -->\n<g id=\"edge12\" class=\"edge\">\n<title>137274626207376&#45;&gt;137274626209536*</title>\n<path fill=\"none\" stroke=\"black\" d=\"M196.05,-128.5C206.52,-128.5 216.65,-128.5 225.71,-128.5\"/>\n<polygon fill=\"black\" stroke=\"black\" points=\"225.79,-132 235.79,-128.5 225.79,-125 225.79,-132\"/>\n</g>\n<!-- 137274626203536 -->\n<g id=\"node4\" class=\"node\">\n<title>137274626203536</title>\n<polygon fill=\"none\" stroke=\"black\" points=\"328.5,-55.5 328.5,-91.5 537.5,-91.5 537.5,-55.5 328.5,-55.5\"/>\n<text text-anchor=\"middle\" x=\"352\" y=\"-69.8\" font-family=\"Times,serif\" font-size=\"14.00\">x2w2</text>\n<polyline fill=\"none\" stroke=\"black\" points=\"375.5,-55.5 375.5,-91.5 \"/>\n<text text-anchor=\"middle\" x=\"415.5\" y=\"-69.8\" font-family=\"Times,serif\" font-size=\"14.00\">data 0.0000</text>\n<polyline fill=\"none\" stroke=\"black\" points=\"455.5,-55.5 455.5,-91.5 \"/>\n<text text-anchor=\"middle\" x=\"496.5\" y=\"-69.8\" font-family=\"Times,serif\" font-size=\"14.00\">grad 0.0000</text>\n</g>\n<!-- 137274626204544+ -->\n<g id=\"node10\" class=\"node\">\n<title>137274626204544+</title>\n<ellipse fill=\"none\" stroke=\"black\" cx=\"603\" cy=\"-100.5\" rx=\"27\" ry=\"18\"/>\n<text text-anchor=\"middle\" x=\"603\" y=\"-96.8\" font-family=\"Times,serif\" font-size=\"14.00\">+</text>\n</g>\n<!-- 137274626203536&#45;&gt;137274626204544+ -->\n<g id=\"edge13\" class=\"edge\">\n<title>137274626203536&#45;&gt;137274626204544+</title>\n<path fill=\"none\" stroke=\"black\" d=\"M537.53,-90.14C547.8,-91.79 557.66,-93.37 566.45,-94.79\"/>\n<polygon fill=\"black\" stroke=\"black\" points=\"566.16,-98.28 576.59,-96.42 567.27,-91.37 566.16,-98.28\"/>\n</g>\n<!-- 137274626203536* -->\n<g id=\"node5\" class=\"node\">\n<title>137274626203536*</title>\n<ellipse fill=\"none\" stroke=\"black\" cx=\"263\" cy=\"-73.5\" rx=\"27\" ry=\"18\"/>\n<text text-anchor=\"middle\" x=\"263\" y=\"-69.8\" font-family=\"Times,serif\" font-size=\"14.00\">*</text>\n</g>\n<!-- 137274626203536*&#45;&gt;137274626203536 -->\n<g id=\"edge1\" class=\"edge\">\n<title>137274626203536*&#45;&gt;137274626203536</title>\n<path fill=\"none\" stroke=\"black\" d=\"M290.25,-73.5C298.43,-73.5 308.03,-73.5 318.31,-73.5\"/>\n<polygon fill=\"black\" stroke=\"black\" points=\"318.35,-77 328.35,-73.5 318.35,-70 318.35,-77\"/>\n</g>\n<!-- 137274626201328 -->\n<g id=\"node6\" class=\"node\">\n<title>137274626201328</title>\n<polygon fill=\"none\" stroke=\"black\" points=\"2.5,-55.5 2.5,-91.5 197.5,-91.5 197.5,-55.5 2.5,-55.5\"/>\n<text text-anchor=\"middle\" x=\"19\" y=\"-69.8\" font-family=\"Times,serif\" font-size=\"14.00\">w2</text>\n<polyline fill=\"none\" stroke=\"black\" points=\"35.5,-55.5 35.5,-91.5 \"/>\n<text text-anchor=\"middle\" x=\"75.5\" y=\"-69.8\" font-family=\"Times,serif\" font-size=\"14.00\">data 1.0000</text>\n<polyline fill=\"none\" stroke=\"black\" points=\"115.5,-55.5 115.5,-91.5 \"/>\n<text text-anchor=\"middle\" x=\"156.5\" y=\"-69.8\" font-family=\"Times,serif\" font-size=\"14.00\">grad 0.0000</text>\n</g>\n<!-- 137274626201328&#45;&gt;137274626203536* -->\n<g id=\"edge7\" class=\"edge\">\n<title>137274626201328&#45;&gt;137274626203536*</title>\n<path fill=\"none\" stroke=\"black\" d=\"M197.91,-73.5C207.65,-73.5 217.05,-73.5 225.52,-73.5\"/>\n<polygon fill=\"black\" stroke=\"black\" points=\"225.7,-77 235.7,-73.5 225.7,-70 225.7,-77\"/>\n</g>\n<!-- 137274626209536 -->\n<g id=\"node7\" class=\"node\">\n<title>137274626209536</title>\n<polygon fill=\"none\" stroke=\"black\" points=\"326,-110.5 326,-146.5 540,-146.5 540,-110.5 326,-110.5\"/>\n<text text-anchor=\"middle\" x=\"349.5\" y=\"-124.8\" font-family=\"Times,serif\" font-size=\"14.00\">x1w1</text>\n<polyline fill=\"none\" stroke=\"black\" points=\"373,-110.5 373,-146.5 \"/>\n<text text-anchor=\"middle\" x=\"415.5\" y=\"-124.8\" font-family=\"Times,serif\" font-size=\"14.00\">data &#45;6.0000</text>\n<polyline fill=\"none\" stroke=\"black\" points=\"458,-110.5 458,-146.5 \"/>\n<text text-anchor=\"middle\" x=\"499\" y=\"-124.8\" font-family=\"Times,serif\" font-size=\"14.00\">grad 0.0000</text>\n</g>\n<!-- 137274626209536&#45;&gt;137274626204544+ -->\n<g id=\"edge11\" class=\"edge\">\n<title>137274626209536&#45;&gt;137274626204544+</title>\n<path fill=\"none\" stroke=\"black\" d=\"M540.4,-110.77C549.72,-109.21 558.65,-107.72 566.68,-106.39\"/>\n<polygon fill=\"black\" stroke=\"black\" points=\"567.38,-109.82 576.66,-104.72 566.22,-102.91 567.38,-109.82\"/>\n</g>\n<!-- 137274626209536*&#45;&gt;137274626209536 -->\n<g id=\"edge2\" class=\"edge\">\n<title>137274626209536*&#45;&gt;137274626209536</title>\n<path fill=\"none\" stroke=\"black\" d=\"M290.25,-128.5C297.7,-128.5 306.34,-128.5 315.59,-128.5\"/>\n<polygon fill=\"black\" stroke=\"black\" points=\"315.84,-132 325.84,-128.5 315.84,-125 315.84,-132\"/>\n</g>\n<!-- 137274626204544 -->\n<g id=\"node9\" class=\"node\">\n<title>137274626204544</title>\n<polygon fill=\"none\" stroke=\"black\" points=\"666,-82.5 666,-118.5 910,-118.5 910,-82.5 666,-82.5\"/>\n<text text-anchor=\"middle\" x=\"704.5\" y=\"-96.8\" font-family=\"Times,serif\" font-size=\"14.00\">x1w1x2w2</text>\n<polyline fill=\"none\" stroke=\"black\" points=\"743,-82.5 743,-118.5 \"/>\n<text text-anchor=\"middle\" x=\"785.5\" y=\"-96.8\" font-family=\"Times,serif\" font-size=\"14.00\">data &#45;6.0000</text>\n<polyline fill=\"none\" stroke=\"black\" points=\"828,-82.5 828,-118.5 \"/>\n<text text-anchor=\"middle\" x=\"869\" y=\"-96.8\" font-family=\"Times,serif\" font-size=\"14.00\">grad 0.0000</text>\n</g>\n<!-- 137274626204544&#45;&gt;137274626205120+ -->\n<g id=\"edge14\" class=\"edge\">\n<title>137274626204544&#45;&gt;137274626205120+</title>\n<path fill=\"none\" stroke=\"black\" d=\"M906.71,-82.49C917.38,-80.86 927.53,-79.3 936.51,-77.93\"/>\n<polygon fill=\"black\" stroke=\"black\" points=\"937.13,-81.38 946.48,-76.4 936.07,-74.46 937.13,-81.38\"/>\n</g>\n<!-- 137274626204544+&#45;&gt;137274626204544 -->\n<g id=\"edge3\" class=\"edge\">\n<title>137274626204544+&#45;&gt;137274626204544</title>\n<path fill=\"none\" stroke=\"black\" d=\"M630.22,-100.5C637.7,-100.5 646.4,-100.5 655.79,-100.5\"/>\n<polygon fill=\"black\" stroke=\"black\" points=\"655.8,-104 665.8,-100.5 655.8,-97 655.8,-104\"/>\n</g>\n<!-- 137274626209680 -->\n<g id=\"node11\" class=\"node\">\n<title>137274626209680</title>\n<polygon fill=\"none\" stroke=\"black\" points=\"1347,-54.5 1347,-90.5 1532,-90.5 1532,-54.5 1347,-54.5\"/>\n<text text-anchor=\"middle\" x=\"1358.5\" y=\"-68.8\" font-family=\"Times,serif\" font-size=\"14.00\">o</text>\n<polyline fill=\"none\" stroke=\"black\" points=\"1370,-54.5 1370,-90.5 \"/>\n<text text-anchor=\"middle\" x=\"1410\" y=\"-68.8\" font-family=\"Times,serif\" font-size=\"14.00\">data 0.7071</text>\n<polyline fill=\"none\" stroke=\"black\" points=\"1450,-54.5 1450,-90.5 \"/>\n<text text-anchor=\"middle\" x=\"1491\" y=\"-68.8\" font-family=\"Times,serif\" font-size=\"14.00\">grad 0.0000</text>\n</g>\n<!-- 137274626209680tanh -->\n<g id=\"node12\" class=\"node\">\n<title>137274626209680tanh</title>\n<ellipse fill=\"none\" stroke=\"black\" cx=\"1284\" cy=\"-72.5\" rx=\"27\" ry=\"18\"/>\n<text text-anchor=\"middle\" x=\"1284\" y=\"-68.8\" font-family=\"Times,serif\" font-size=\"14.00\">tanh</text>\n</g>\n<!-- 137274626209680tanh&#45;&gt;137274626209680 -->\n<g id=\"edge4\" class=\"edge\">\n<title>137274626209680tanh&#45;&gt;137274626209680</title>\n<path fill=\"none\" stroke=\"black\" d=\"M1311.04,-72.5C1318.58,-72.5 1327.3,-72.5 1336.57,-72.5\"/>\n<polygon fill=\"black\" stroke=\"black\" points=\"1336.81,-76 1346.81,-72.5 1336.81,-69 1336.81,-76\"/>\n</g>\n<!-- 137274626205120 -->\n<g id=\"node13\" class=\"node\">\n<title>137274626205120</title>\n<polygon fill=\"none\" stroke=\"black\" points=\"1036,-54.5 1036,-90.5 1221,-90.5 1221,-54.5 1036,-54.5\"/>\n<text text-anchor=\"middle\" x=\"1047.5\" y=\"-68.8\" font-family=\"Times,serif\" font-size=\"14.00\">n</text>\n<polyline fill=\"none\" stroke=\"black\" points=\"1059,-54.5 1059,-90.5 \"/>\n<text text-anchor=\"middle\" x=\"1099\" y=\"-68.8\" font-family=\"Times,serif\" font-size=\"14.00\">data 0.8814</text>\n<polyline fill=\"none\" stroke=\"black\" points=\"1139,-54.5 1139,-90.5 \"/>\n<text text-anchor=\"middle\" x=\"1180\" y=\"-68.8\" font-family=\"Times,serif\" font-size=\"14.00\">grad 0.0000</text>\n</g>\n<!-- 137274626205120&#45;&gt;137274626209680tanh -->\n<g id=\"edge8\" class=\"edge\">\n<title>137274626205120&#45;&gt;137274626209680tanh</title>\n<path fill=\"none\" stroke=\"black\" d=\"M1221.01,-72.5C1230.01,-72.5 1238.74,-72.5 1246.66,-72.5\"/>\n<polygon fill=\"black\" stroke=\"black\" points=\"1246.91,-76 1256.91,-72.5 1246.91,-69 1246.91,-76\"/>\n</g>\n<!-- 137274626205120+&#45;&gt;137274626205120 -->\n<g id=\"edge5\" class=\"edge\">\n<title>137274626205120+&#45;&gt;137274626205120</title>\n<path fill=\"none\" stroke=\"black\" d=\"M1000.04,-72.5C1007.58,-72.5 1016.3,-72.5 1025.57,-72.5\"/>\n<polygon fill=\"black\" stroke=\"black\" points=\"1025.81,-76 1035.81,-72.5 1025.81,-69 1025.81,-76\"/>\n</g>\n<!-- 137274626211312 -->\n<g id=\"node15\" class=\"node\">\n<title>137274626211312</title>\n<polygon fill=\"none\" stroke=\"black\" points=\"4,-0.5 4,-36.5 196,-36.5 196,-0.5 4,-0.5\"/>\n<text text-anchor=\"middle\" x=\"19\" y=\"-14.8\" font-family=\"Times,serif\" font-size=\"14.00\">x2</text>\n<polyline fill=\"none\" stroke=\"black\" points=\"34,-0.5 34,-36.5 \"/>\n<text text-anchor=\"middle\" x=\"74\" y=\"-14.8\" font-family=\"Times,serif\" font-size=\"14.00\">data 0.0000</text>\n<polyline fill=\"none\" stroke=\"black\" points=\"114,-0.5 114,-36.5 \"/>\n<text text-anchor=\"middle\" x=\"155\" y=\"-14.8\" font-family=\"Times,serif\" font-size=\"14.00\">grad 0.0000</text>\n</g>\n<!-- 137274626211312&#45;&gt;137274626203536* -->\n<g id=\"edge6\" class=\"edge\">\n<title>137274626211312&#45;&gt;137274626203536*</title>\n<path fill=\"none\" stroke=\"black\" d=\"M169.28,-36.5C179.65,-39.61 190.16,-42.98 200,-46.5 210.28,-50.17 221.28,-54.74 231.11,-59.07\"/>\n<polygon fill=\"black\" stroke=\"black\" points=\"229.93,-62.37 240.48,-63.27 232.79,-55.99 229.93,-62.37\"/>\n</g>\n</g>\n</svg>\n",
            "text/plain": [
              "<graphviz.graphs.Digraph at 0x7cd9bd54fac0>"
            ]
          },
          "metadata": {},
          "execution_count": 7
        }
      ]
    },
    {
      "cell_type": "code",
      "source": [
        "# we will fill all the grads in this cell after performing calculations below this cell\n",
        "o.grad = 1\n",
        "n.grad = 0.5\n",
        "b.grad = 0.5\n",
        "x1w1x2w2.grad = 0.5\n",
        "x2w2.grad = 0.5\n",
        "x1w1.grad = 0.5\n",
        "w2.grad = 0\n",
        "x2.grad = 0.5\n",
        "x1.grad = -3 * 0.5\n",
        "w1.grad = 2* 0.5"
      ],
      "metadata": {
        "id": "rlrvJj0n-ae-"
      },
      "execution_count": null,
      "outputs": []
    },
    {
      "cell_type": "code",
      "source": [
        "# Let's backpropagate through this graph (for every element we need to differentiate with respect to o)\n",
        "\n",
        "# o = tanh(n)\n",
        "# do/dn = 1 - tanh(n)**2\n",
        "# o.data = 0.6043677771171636\n",
        "# do/dn = 1-(0.6043677771171636)**2\n",
        "1-(o.data**2)\n",
        "# do/dn = 0.5\n",
        "\n",
        "# do/db= dn/db * do/dn\n",
        "# do/db = 1 * 0.5\n",
        "# do/db = 0.5\n",
        "# do/dw2 = dx2w2/dw2 * do/dx2w2\n",
        "# do/dw2 = x2 * 0.5\n",
        "# do/dw2 = 0\n",
        "\n"
      ],
      "metadata": {
        "colab": {
          "base_uri": "https://localhost:8080/"
        },
        "id": "mp1hO5sK8Yh4",
        "outputId": "7e9457f1-08e9-44d8-985f-9fc5b30fdd02"
      },
      "execution_count": null,
      "outputs": [
        {
          "output_type": "execute_result",
          "data": {
            "text/plain": [
              "0.5000000000000062"
            ]
          },
          "metadata": {},
          "execution_count": 22
        }
      ]
    },
    {
      "cell_type": "code",
      "source": [
        "draw_dot(o)"
      ],
      "metadata": {
        "colab": {
          "base_uri": "https://localhost:8080/",
          "height": 321
        },
        "id": "SALXZYoZ-vAp",
        "outputId": "9722e261-6c1d-4be0-c8d0-32d20362bf1f"
      },
      "execution_count": null,
      "outputs": [
        {
          "output_type": "execute_result",
          "data": {
            "image/svg+xml": "<?xml version=\"1.0\" encoding=\"UTF-8\" standalone=\"no\"?>\n<!DOCTYPE svg PUBLIC \"-//W3C//DTD SVG 1.1//EN\"\n \"http://www.w3.org/Graphics/SVG/1.1/DTD/svg11.dtd\">\n<!-- Generated by graphviz version 2.43.0 (0)\n -->\n<!-- Title: %3 Pages: 1 -->\n<svg width=\"1540pt\" height=\"210pt\"\n viewBox=\"0.00 0.00 1540.00 210.00\" xmlns=\"http://www.w3.org/2000/svg\" xmlns:xlink=\"http://www.w3.org/1999/xlink\">\n<g id=\"graph0\" class=\"graph\" transform=\"scale(1 1) rotate(0) translate(4 206)\">\n<title>%3</title>\n<polygon fill=\"white\" stroke=\"transparent\" points=\"-4,4 -4,-206 1536,-206 1536,4 -4,4\"/>\n<!-- 138137550182080 -->\n<g id=\"node1\" class=\"node\">\n<title>138137550182080</title>\n<polygon fill=\"none\" stroke=\"black\" points=\"2.5,-165.5 2.5,-201.5 197.5,-201.5 197.5,-165.5 2.5,-165.5\"/>\n<text text-anchor=\"middle\" x=\"19\" y=\"-179.8\" font-family=\"Times,serif\" font-size=\"14.00\">w2</text>\n<polyline fill=\"none\" stroke=\"black\" points=\"35.5,-165.5 35.5,-201.5 \"/>\n<text text-anchor=\"middle\" x=\"75.5\" y=\"-179.8\" font-family=\"Times,serif\" font-size=\"14.00\">data 1.0000</text>\n<polyline fill=\"none\" stroke=\"black\" points=\"115.5,-165.5 115.5,-201.5 \"/>\n<text text-anchor=\"middle\" x=\"156.5\" y=\"-179.8\" font-family=\"Times,serif\" font-size=\"14.00\">grad 0.0000</text>\n</g>\n<!-- 138137550180064* -->\n<g id=\"node4\" class=\"node\">\n<title>138137550180064*</title>\n<ellipse fill=\"none\" stroke=\"black\" cx=\"263\" cy=\"-128.5\" rx=\"27\" ry=\"18\"/>\n<text text-anchor=\"middle\" x=\"263\" y=\"-124.8\" font-family=\"Times,serif\" font-size=\"14.00\">*</text>\n</g>\n<!-- 138137550182080&#45;&gt;138137550180064* -->\n<g id=\"edge13\" class=\"edge\">\n<title>138137550182080&#45;&gt;138137550180064*</title>\n<path fill=\"none\" stroke=\"black\" d=\"M172.53,-165.44C181.84,-162.67 191.2,-159.67 200,-156.5 210.53,-152.71 221.75,-147.9 231.72,-143.33\"/>\n<polygon fill=\"black\" stroke=\"black\" points=\"233.25,-146.48 240.82,-139.07 230.28,-140.14 233.25,-146.48\"/>\n</g>\n<!-- 138137550187216 -->\n<g id=\"node2\" class=\"node\">\n<title>138137550187216</title>\n<polygon fill=\"none\" stroke=\"black\" points=\"695.5,-27.5 695.5,-63.5 880.5,-63.5 880.5,-27.5 695.5,-27.5\"/>\n<text text-anchor=\"middle\" x=\"707\" y=\"-41.8\" font-family=\"Times,serif\" font-size=\"14.00\">b</text>\n<polyline fill=\"none\" stroke=\"black\" points=\"718.5,-27.5 718.5,-63.5 \"/>\n<text text-anchor=\"middle\" x=\"758.5\" y=\"-41.8\" font-family=\"Times,serif\" font-size=\"14.00\">data 6.8814</text>\n<polyline fill=\"none\" stroke=\"black\" points=\"798.5,-27.5 798.5,-63.5 \"/>\n<text text-anchor=\"middle\" x=\"839.5\" y=\"-41.8\" font-family=\"Times,serif\" font-size=\"14.00\">grad 0.5000</text>\n</g>\n<!-- 138137550185776+ -->\n<g id=\"node10\" class=\"node\">\n<title>138137550185776+</title>\n<ellipse fill=\"none\" stroke=\"black\" cx=\"973\" cy=\"-72.5\" rx=\"27\" ry=\"18\"/>\n<text text-anchor=\"middle\" x=\"973\" y=\"-68.8\" font-family=\"Times,serif\" font-size=\"14.00\">+</text>\n</g>\n<!-- 138137550187216&#45;&gt;138137550185776+ -->\n<g id=\"edge9\" class=\"edge\">\n<title>138137550187216&#45;&gt;138137550185776+</title>\n<path fill=\"none\" stroke=\"black\" d=\"M880.77,-59.04C900.52,-61.95 920.26,-64.87 936.29,-67.23\"/>\n<polygon fill=\"black\" stroke=\"black\" points=\"935.86,-70.71 946.26,-68.7 936.88,-63.78 935.86,-70.71\"/>\n</g>\n<!-- 138137550180064 -->\n<g id=\"node3\" class=\"node\">\n<title>138137550180064</title>\n<polygon fill=\"none\" stroke=\"black\" points=\"328.5,-110.5 328.5,-146.5 537.5,-146.5 537.5,-110.5 328.5,-110.5\"/>\n<text text-anchor=\"middle\" x=\"352\" y=\"-124.8\" font-family=\"Times,serif\" font-size=\"14.00\">x2w2</text>\n<polyline fill=\"none\" stroke=\"black\" points=\"375.5,-110.5 375.5,-146.5 \"/>\n<text text-anchor=\"middle\" x=\"415.5\" y=\"-124.8\" font-family=\"Times,serif\" font-size=\"14.00\">data 0.0000</text>\n<polyline fill=\"none\" stroke=\"black\" points=\"455.5,-110.5 455.5,-146.5 \"/>\n<text text-anchor=\"middle\" x=\"496.5\" y=\"-124.8\" font-family=\"Times,serif\" font-size=\"14.00\">grad 0.5000</text>\n</g>\n<!-- 138137550179824+ -->\n<g id=\"node15\" class=\"node\">\n<title>138137550179824+</title>\n<ellipse fill=\"none\" stroke=\"black\" cx=\"603\" cy=\"-100.5\" rx=\"27\" ry=\"18\"/>\n<text text-anchor=\"middle\" x=\"603\" y=\"-96.8\" font-family=\"Times,serif\" font-size=\"14.00\">+</text>\n</g>\n<!-- 138137550180064&#45;&gt;138137550179824+ -->\n<g id=\"edge10\" class=\"edge\">\n<title>138137550180064&#45;&gt;138137550179824+</title>\n<path fill=\"none\" stroke=\"black\" d=\"M537.53,-111.25C547.8,-109.53 557.66,-107.89 566.45,-106.43\"/>\n<polygon fill=\"black\" stroke=\"black\" points=\"567.3,-109.83 576.59,-104.74 566.15,-102.93 567.3,-109.83\"/>\n</g>\n<!-- 138137550180064*&#45;&gt;138137550180064 -->\n<g id=\"edge1\" class=\"edge\">\n<title>138137550180064*&#45;&gt;138137550180064</title>\n<path fill=\"none\" stroke=\"black\" d=\"M290.25,-128.5C298.43,-128.5 308.03,-128.5 318.31,-128.5\"/>\n<polygon fill=\"black\" stroke=\"black\" points=\"318.35,-132 328.35,-128.5 318.35,-125 318.35,-132\"/>\n</g>\n<!-- 138137550183136 -->\n<g id=\"node5\" class=\"node\">\n<title>138137550183136</title>\n<polygon fill=\"none\" stroke=\"black\" points=\"326,-55.5 326,-91.5 540,-91.5 540,-55.5 326,-55.5\"/>\n<text text-anchor=\"middle\" x=\"349.5\" y=\"-69.8\" font-family=\"Times,serif\" font-size=\"14.00\">x1w1</text>\n<polyline fill=\"none\" stroke=\"black\" points=\"373,-55.5 373,-91.5 \"/>\n<text text-anchor=\"middle\" x=\"415.5\" y=\"-69.8\" font-family=\"Times,serif\" font-size=\"14.00\">data &#45;6.0000</text>\n<polyline fill=\"none\" stroke=\"black\" points=\"458,-55.5 458,-91.5 \"/>\n<text text-anchor=\"middle\" x=\"499\" y=\"-69.8\" font-family=\"Times,serif\" font-size=\"14.00\">grad 0.5000</text>\n</g>\n<!-- 138137550183136&#45;&gt;138137550179824+ -->\n<g id=\"edge11\" class=\"edge\">\n<title>138137550183136&#45;&gt;138137550179824+</title>\n<path fill=\"none\" stroke=\"black\" d=\"M540.4,-90.6C549.72,-92.1 558.65,-93.53 566.68,-94.82\"/>\n<polygon fill=\"black\" stroke=\"black\" points=\"566.24,-98.3 576.66,-96.43 567.35,-91.39 566.24,-98.3\"/>\n</g>\n<!-- 138137550183136* -->\n<g id=\"node6\" class=\"node\">\n<title>138137550183136*</title>\n<ellipse fill=\"none\" stroke=\"black\" cx=\"263\" cy=\"-73.5\" rx=\"27\" ry=\"18\"/>\n<text text-anchor=\"middle\" x=\"263\" y=\"-69.8\" font-family=\"Times,serif\" font-size=\"14.00\">*</text>\n</g>\n<!-- 138137550183136*&#45;&gt;138137550183136 -->\n<g id=\"edge2\" class=\"edge\">\n<title>138137550183136*&#45;&gt;138137550183136</title>\n<path fill=\"none\" stroke=\"black\" d=\"M290.25,-73.5C297.7,-73.5 306.34,-73.5 315.59,-73.5\"/>\n<polygon fill=\"black\" stroke=\"black\" points=\"315.84,-77 325.84,-73.5 315.84,-70 315.84,-77\"/>\n</g>\n<!-- 138137550185200 -->\n<g id=\"node7\" class=\"node\">\n<title>138137550185200</title>\n<polygon fill=\"none\" stroke=\"black\" points=\"2,-55.5 2,-91.5 198,-91.5 198,-55.5 2,-55.5\"/>\n<text text-anchor=\"middle\" x=\"17\" y=\"-69.8\" font-family=\"Times,serif\" font-size=\"14.00\">x1</text>\n<polyline fill=\"none\" stroke=\"black\" points=\"32,-55.5 32,-91.5 \"/>\n<text text-anchor=\"middle\" x=\"72\" y=\"-69.8\" font-family=\"Times,serif\" font-size=\"14.00\">data 2.0000</text>\n<polyline fill=\"none\" stroke=\"black\" points=\"112,-55.5 112,-91.5 \"/>\n<text text-anchor=\"middle\" x=\"155\" y=\"-69.8\" font-family=\"Times,serif\" font-size=\"14.00\">grad &#45;1.5000</text>\n</g>\n<!-- 138137550185200&#45;&gt;138137550183136* -->\n<g id=\"edge6\" class=\"edge\">\n<title>138137550185200&#45;&gt;138137550183136*</title>\n<path fill=\"none\" stroke=\"black\" d=\"M198.37,-73.5C208.05,-73.5 217.4,-73.5 225.8,-73.5\"/>\n<polygon fill=\"black\" stroke=\"black\" points=\"225.91,-77 235.91,-73.5 225.91,-70 225.91,-77\"/>\n</g>\n<!-- 138137550183184 -->\n<g id=\"node8\" class=\"node\">\n<title>138137550183184</title>\n<polygon fill=\"none\" stroke=\"black\" points=\"0,-0.5 0,-36.5 200,-36.5 200,-0.5 0,-0.5\"/>\n<text text-anchor=\"middle\" x=\"16.5\" y=\"-14.8\" font-family=\"Times,serif\" font-size=\"14.00\">w1</text>\n<polyline fill=\"none\" stroke=\"black\" points=\"33,-0.5 33,-36.5 \"/>\n<text text-anchor=\"middle\" x=\"75.5\" y=\"-14.8\" font-family=\"Times,serif\" font-size=\"14.00\">data &#45;3.0000</text>\n<polyline fill=\"none\" stroke=\"black\" points=\"118,-0.5 118,-36.5 \"/>\n<text text-anchor=\"middle\" x=\"159\" y=\"-14.8\" font-family=\"Times,serif\" font-size=\"14.00\">grad 1.0000</text>\n</g>\n<!-- 138137550183184&#45;&gt;138137550183136* -->\n<g id=\"edge7\" class=\"edge\">\n<title>138137550183184&#45;&gt;138137550183136*</title>\n<path fill=\"none\" stroke=\"black\" d=\"M169.28,-36.5C179.65,-39.61 190.16,-42.98 200,-46.5 210.28,-50.17 221.28,-54.74 231.11,-59.07\"/>\n<polygon fill=\"black\" stroke=\"black\" points=\"229.93,-62.37 240.48,-63.27 232.79,-55.99 229.93,-62.37\"/>\n</g>\n<!-- 138137550185776 -->\n<g id=\"node9\" class=\"node\">\n<title>138137550185776</title>\n<polygon fill=\"none\" stroke=\"black\" points=\"1036,-54.5 1036,-90.5 1221,-90.5 1221,-54.5 1036,-54.5\"/>\n<text text-anchor=\"middle\" x=\"1047.5\" y=\"-68.8\" font-family=\"Times,serif\" font-size=\"14.00\">n</text>\n<polyline fill=\"none\" stroke=\"black\" points=\"1059,-54.5 1059,-90.5 \"/>\n<text text-anchor=\"middle\" x=\"1099\" y=\"-68.8\" font-family=\"Times,serif\" font-size=\"14.00\">data 0.8814</text>\n<polyline fill=\"none\" stroke=\"black\" points=\"1139,-54.5 1139,-90.5 \"/>\n<text text-anchor=\"middle\" x=\"1180\" y=\"-68.8\" font-family=\"Times,serif\" font-size=\"14.00\">grad 0.5000</text>\n</g>\n<!-- 138137550191056tanh -->\n<g id=\"node13\" class=\"node\">\n<title>138137550191056tanh</title>\n<ellipse fill=\"none\" stroke=\"black\" cx=\"1284\" cy=\"-72.5\" rx=\"27\" ry=\"18\"/>\n<text text-anchor=\"middle\" x=\"1284\" y=\"-68.8\" font-family=\"Times,serif\" font-size=\"14.00\">tanh</text>\n</g>\n<!-- 138137550185776&#45;&gt;138137550191056tanh -->\n<g id=\"edge12\" class=\"edge\">\n<title>138137550185776&#45;&gt;138137550191056tanh</title>\n<path fill=\"none\" stroke=\"black\" d=\"M1221.01,-72.5C1230.01,-72.5 1238.74,-72.5 1246.66,-72.5\"/>\n<polygon fill=\"black\" stroke=\"black\" points=\"1246.91,-76 1256.91,-72.5 1246.91,-69 1246.91,-76\"/>\n</g>\n<!-- 138137550185776+&#45;&gt;138137550185776 -->\n<g id=\"edge3\" class=\"edge\">\n<title>138137550185776+&#45;&gt;138137550185776</title>\n<path fill=\"none\" stroke=\"black\" d=\"M1000.04,-72.5C1007.58,-72.5 1016.3,-72.5 1025.57,-72.5\"/>\n<polygon fill=\"black\" stroke=\"black\" points=\"1025.81,-76 1035.81,-72.5 1025.81,-69 1025.81,-76\"/>\n</g>\n<!-- 138137550185872 -->\n<g id=\"node11\" class=\"node\">\n<title>138137550185872</title>\n<polygon fill=\"none\" stroke=\"black\" points=\"4,-110.5 4,-146.5 196,-146.5 196,-110.5 4,-110.5\"/>\n<text text-anchor=\"middle\" x=\"19\" y=\"-124.8\" font-family=\"Times,serif\" font-size=\"14.00\">x2</text>\n<polyline fill=\"none\" stroke=\"black\" points=\"34,-110.5 34,-146.5 \"/>\n<text text-anchor=\"middle\" x=\"74\" y=\"-124.8\" font-family=\"Times,serif\" font-size=\"14.00\">data 0.0000</text>\n<polyline fill=\"none\" stroke=\"black\" points=\"114,-110.5 114,-146.5 \"/>\n<text text-anchor=\"middle\" x=\"155\" y=\"-124.8\" font-family=\"Times,serif\" font-size=\"14.00\">grad 0.5000</text>\n</g>\n<!-- 138137550185872&#45;&gt;138137550180064* -->\n<g id=\"edge14\" class=\"edge\">\n<title>138137550185872&#45;&gt;138137550180064*</title>\n<path fill=\"none\" stroke=\"black\" d=\"M196.05,-128.5C206.52,-128.5 216.65,-128.5 225.71,-128.5\"/>\n<polygon fill=\"black\" stroke=\"black\" points=\"225.79,-132 235.79,-128.5 225.79,-125 225.79,-132\"/>\n</g>\n<!-- 138137550191056 -->\n<g id=\"node12\" class=\"node\">\n<title>138137550191056</title>\n<polygon fill=\"none\" stroke=\"black\" points=\"1347,-54.5 1347,-90.5 1532,-90.5 1532,-54.5 1347,-54.5\"/>\n<text text-anchor=\"middle\" x=\"1358.5\" y=\"-68.8\" font-family=\"Times,serif\" font-size=\"14.00\">o</text>\n<polyline fill=\"none\" stroke=\"black\" points=\"1370,-54.5 1370,-90.5 \"/>\n<text text-anchor=\"middle\" x=\"1410\" y=\"-68.8\" font-family=\"Times,serif\" font-size=\"14.00\">data 0.7071</text>\n<polyline fill=\"none\" stroke=\"black\" points=\"1450,-54.5 1450,-90.5 \"/>\n<text text-anchor=\"middle\" x=\"1491\" y=\"-68.8\" font-family=\"Times,serif\" font-size=\"14.00\">grad 1.0000</text>\n</g>\n<!-- 138137550191056tanh&#45;&gt;138137550191056 -->\n<g id=\"edge4\" class=\"edge\">\n<title>138137550191056tanh&#45;&gt;138137550191056</title>\n<path fill=\"none\" stroke=\"black\" d=\"M1311.04,-72.5C1318.58,-72.5 1327.3,-72.5 1336.57,-72.5\"/>\n<polygon fill=\"black\" stroke=\"black\" points=\"1336.81,-76 1346.81,-72.5 1336.81,-69 1336.81,-76\"/>\n</g>\n<!-- 138137550179824 -->\n<g id=\"node14\" class=\"node\">\n<title>138137550179824</title>\n<polygon fill=\"none\" stroke=\"black\" points=\"666,-82.5 666,-118.5 910,-118.5 910,-82.5 666,-82.5\"/>\n<text text-anchor=\"middle\" x=\"704.5\" y=\"-96.8\" font-family=\"Times,serif\" font-size=\"14.00\">x1w1x2w2</text>\n<polyline fill=\"none\" stroke=\"black\" points=\"743,-82.5 743,-118.5 \"/>\n<text text-anchor=\"middle\" x=\"785.5\" y=\"-96.8\" font-family=\"Times,serif\" font-size=\"14.00\">data &#45;6.0000</text>\n<polyline fill=\"none\" stroke=\"black\" points=\"828,-82.5 828,-118.5 \"/>\n<text text-anchor=\"middle\" x=\"869\" y=\"-96.8\" font-family=\"Times,serif\" font-size=\"14.00\">grad 0.5000</text>\n</g>\n<!-- 138137550179824&#45;&gt;138137550185776+ -->\n<g id=\"edge8\" class=\"edge\">\n<title>138137550179824&#45;&gt;138137550185776+</title>\n<path fill=\"none\" stroke=\"black\" d=\"M906.71,-82.49C917.38,-80.86 927.53,-79.3 936.51,-77.93\"/>\n<polygon fill=\"black\" stroke=\"black\" points=\"937.13,-81.38 946.48,-76.4 936.07,-74.46 937.13,-81.38\"/>\n</g>\n<!-- 138137550179824+&#45;&gt;138137550179824 -->\n<g id=\"edge5\" class=\"edge\">\n<title>138137550179824+&#45;&gt;138137550179824</title>\n<path fill=\"none\" stroke=\"black\" d=\"M630.22,-100.5C637.7,-100.5 646.4,-100.5 655.79,-100.5\"/>\n<polygon fill=\"black\" stroke=\"black\" points=\"655.8,-104 665.8,-100.5 655.8,-97 655.8,-104\"/>\n</g>\n</g>\n</svg>\n",
            "text/plain": [
              "<graphviz.graphs.Digraph at 0x7da29dcd32b0>"
            ]
          },
          "metadata": {},
          "execution_count": 24
        }
      ]
    },
    {
      "cell_type": "markdown",
      "source": [
        "# Implementing backward pass in Value Class"
      ],
      "metadata": {
        "id": "qjHPT5JKBwrO"
      }
    },
    {
      "cell_type": "code",
      "source": [
        "# To implement backward pass we have to know that\n",
        "# 1. For addition the loss wrt to last node is simply copied over the node that we are calculating\n",
        "class Value:\n",
        "  def __init__(self, data, _children=(), _op='',label=''):\n",
        "    self.data = data\n",
        "    self.grad = 0\n",
        "    self._backward = lambda : None\n",
        "    self._prev = set(_children)\n",
        "    self.label = label\n",
        "    self._op = _op\n",
        "\n",
        "  def __repr__(self):\n",
        "    return f'Value(data={self.data})'\n",
        "\n",
        "  def __add__(self,other):\n",
        "    out = Value(self.data + other.data,(self,other),'+')\n",
        "\n",
        "    def _backward(self):\n",
        "      self.grad = 1.0 + out.grad\n",
        "      other.grad = 1.0 + out.grad\n",
        "    out._backward = _backward()\n",
        "    return out\n",
        "\n",
        "  def tanh(self):\n",
        "    x = self.data\n",
        "    t = (math.exp(2*x) -1)/(math.exp(2*x)+ 1)\n",
        "    out = Value(t,(self,),'tanh')\n",
        "\n",
        "    def _backward(self):\n",
        "      self.grad = (1-t**2) * out.grad\n",
        "    out._backward = _backward()\n",
        "    return out\n",
        "\n",
        "  def __mul__(self,other):\n",
        "    out = Value(self.data * other.data,(self,other),'*')\n",
        "    def _backward(self):\n",
        "      self.grad = other.grad * out.grad\n",
        "      other.grad = self.grad * out.grad\n",
        "    out._backward = _backward()\n",
        "    return out\n"
      ],
      "metadata": {
        "id": "mkZOcfbeDm4h"
      },
      "execution_count": null,
      "outputs": []
    },
    {
      "cell_type": "markdown",
      "source": [
        "# Example using _backward functon"
      ],
      "metadata": {
        "id": "OQ-F9jMOIIBB"
      }
    },
    {
      "cell_type": "code",
      "source": [
        "# let's compute the neural calcultaions again this time with tanh\n",
        "#inputs x1, x2\n",
        "x1 = Value(2.0,label='x1')\n",
        "x2 = Value(0.0,label='x2')\n",
        "# weights w1,w2\n",
        "w1 = Value(-3.0,label='w1')\n",
        "w2 = Value(1.0, label='w2')\n",
        "#bias of neuron\n",
        "b = Value(6.8813735870195342, label='b')\n",
        "#Multiplying inputs and weights\n",
        "x1w1 = x1*w1; x1w1.label='x1w1'\n",
        "x2w2 = x2*w2; x2w2.label='x2w2'\n",
        "#Adding all up\n",
        "x1w1x2w2 = x1w1 + x2w2; x1w1x2w2.label='x1w1x2w2';\n",
        "#Introducing bias\n",
        "n = x1w1x2w2 + b ; n.label='n'\n",
        "o = n.tanh() ; o.label = 'o'"
      ],
      "metadata": {
        "colab": {
          "base_uri": "https://localhost:8080/",
          "height": 349
        },
        "id": "epMJEZNUIjlj",
        "outputId": "7e0d1b5a-595d-4b7c-ccb1-30c6b7d6c75d"
      },
      "execution_count": null,
      "outputs": [
        {
          "output_type": "error",
          "ename": "TypeError",
          "evalue": "ignored",
          "traceback": [
            "\u001b[0;31m---------------------------------------------------------------------------\u001b[0m",
            "\u001b[0;31mTypeError\u001b[0m                                 Traceback (most recent call last)",
            "\u001b[0;32m<ipython-input-23-1e232fe5b2b4>\u001b[0m in \u001b[0;36m<cell line: 11>\u001b[0;34m()\u001b[0m\n\u001b[1;32m      9\u001b[0m \u001b[0mb\u001b[0m \u001b[0;34m=\u001b[0m \u001b[0mValue\u001b[0m\u001b[0;34m(\u001b[0m\u001b[0;36m6.8813735870195342\u001b[0m\u001b[0;34m,\u001b[0m \u001b[0mlabel\u001b[0m\u001b[0;34m=\u001b[0m\u001b[0;34m'b'\u001b[0m\u001b[0;34m)\u001b[0m\u001b[0;34m\u001b[0m\u001b[0;34m\u001b[0m\u001b[0m\n\u001b[1;32m     10\u001b[0m \u001b[0;31m#Multiplying inputs and weights\u001b[0m\u001b[0;34m\u001b[0m\u001b[0;34m\u001b[0m\u001b[0m\n\u001b[0;32m---> 11\u001b[0;31m \u001b[0mx1w1\u001b[0m \u001b[0;34m=\u001b[0m \u001b[0mx1\u001b[0m\u001b[0;34m*\u001b[0m\u001b[0mw1\u001b[0m\u001b[0;34m;\u001b[0m \u001b[0mx1w1\u001b[0m\u001b[0;34m.\u001b[0m\u001b[0mlabel\u001b[0m\u001b[0;34m=\u001b[0m\u001b[0;34m'x1w1'\u001b[0m\u001b[0;34m\u001b[0m\u001b[0;34m\u001b[0m\u001b[0m\n\u001b[0m\u001b[1;32m     12\u001b[0m \u001b[0mx2w2\u001b[0m \u001b[0;34m=\u001b[0m \u001b[0mx2\u001b[0m\u001b[0;34m*\u001b[0m\u001b[0mw2\u001b[0m\u001b[0;34m;\u001b[0m \u001b[0mx2w2\u001b[0m\u001b[0;34m.\u001b[0m\u001b[0mlabel\u001b[0m\u001b[0;34m=\u001b[0m\u001b[0;34m'x2w2'\u001b[0m\u001b[0;34m\u001b[0m\u001b[0;34m\u001b[0m\u001b[0m\n\u001b[1;32m     13\u001b[0m \u001b[0;31m#Adding all up\u001b[0m\u001b[0;34m\u001b[0m\u001b[0;34m\u001b[0m\u001b[0m\n",
            "\u001b[0;32m<ipython-input-22-218cb16c1f1a>\u001b[0m in \u001b[0;36m__mul__\u001b[0;34m(self, other)\u001b[0m\n\u001b[1;32m     37\u001b[0m       \u001b[0mself\u001b[0m\u001b[0;34m.\u001b[0m\u001b[0mgrad\u001b[0m \u001b[0;34m=\u001b[0m \u001b[0mother\u001b[0m\u001b[0;34m.\u001b[0m\u001b[0mgrad\u001b[0m \u001b[0;34m*\u001b[0m \u001b[0mout\u001b[0m\u001b[0;34m.\u001b[0m\u001b[0mgrad\u001b[0m\u001b[0;34m\u001b[0m\u001b[0;34m\u001b[0m\u001b[0m\n\u001b[1;32m     38\u001b[0m       \u001b[0mother\u001b[0m\u001b[0;34m.\u001b[0m\u001b[0mgrad\u001b[0m \u001b[0;34m=\u001b[0m \u001b[0mself\u001b[0m\u001b[0;34m.\u001b[0m\u001b[0mgrad\u001b[0m \u001b[0;34m*\u001b[0m \u001b[0mout\u001b[0m\u001b[0;34m.\u001b[0m\u001b[0mgrad\u001b[0m\u001b[0;34m\u001b[0m\u001b[0;34m\u001b[0m\u001b[0m\n\u001b[0;32m---> 39\u001b[0;31m     \u001b[0mout\u001b[0m\u001b[0;34m.\u001b[0m\u001b[0m_backward\u001b[0m \u001b[0;34m=\u001b[0m \u001b[0m_backward\u001b[0m\u001b[0;34m(\u001b[0m\u001b[0;34m)\u001b[0m\u001b[0;34m\u001b[0m\u001b[0;34m\u001b[0m\u001b[0m\n\u001b[0m\u001b[1;32m     40\u001b[0m     \u001b[0;32mreturn\u001b[0m \u001b[0mout\u001b[0m\u001b[0;34m\u001b[0m\u001b[0;34m\u001b[0m\u001b[0m\n",
            "\u001b[0;31mTypeError\u001b[0m: Value.__mul__.<locals>._backward() missing 1 required positional argument: 'self'"
          ]
        }
      ]
    },
    {
      "cell_type": "code",
      "source": [
        "draw_dot(o)"
      ],
      "metadata": {
        "id": "fXfyGAVXIkdz"
      },
      "execution_count": null,
      "outputs": []
    },
    {
      "cell_type": "code",
      "source": [
        "o.grad = 1"
      ],
      "metadata": {
        "id": "aRdZbOhhI2vl"
      },
      "execution_count": null,
      "outputs": []
    },
    {
      "cell_type": "code",
      "source": [
        "n._backward()"
      ],
      "metadata": {
        "id": "oUMUXLSeI6r7"
      },
      "execution_count": null,
      "outputs": []
    },
    {
      "cell_type": "code",
      "source": [],
      "metadata": {
        "id": "OTPFqFEVJKfd"
      },
      "execution_count": null,
      "outputs": []
    }
  ]
}